{
 "cells": [
  {
   "cell_type": "markdown",
   "source": [
    "Step 1: Load the MNIST dataset"
   ],
   "metadata": {
    "collapsed": false
   }
  },
  {
   "cell_type": "code",
   "execution_count": 57,
   "outputs": [],
   "source": [
    "import torch as torch\n",
    "import torchvision as torchvision\n",
    "from torch.utils.data import DataLoader, Subset\n",
    "import torchvision.datasets as datasets\n",
    "import mnist_loader\n",
    "from torchvision import transforms\n",
    "\n",
    "batch_size_train = 64\n",
    "batch_size_test = 1000\n",
    "\n",
    "\n",
    "n_epochs = 3\n",
    "\n",
    "def loadDataSets():\n",
    "    global mnist_trainset\n",
    "\n",
    "    mnist_trainset = datasets.MNIST(root='./data', train=True,\n",
    "                                download=True,\n",
    "                                transform=transforms.Compose([transforms.ToTensor()]))\n",
    "\n",
    "    global train_loader\n",
    "    train_loader = torch.utils.data.DataLoader(mnist_trainset, batch_size=batch_size_train, shuffle=True)\n",
    "\n",
    "    mnist_testset = datasets.MNIST(root='./data', train=False,\n",
    "                                download=True,\n",
    "                                transform=transforms.Compose([transforms.ToTensor()]))\n",
    "\n",
    "    global test_loader\n",
    "    test_loader = torch.utils.data.DataLoader(mnist_testset, batch_size=batch_size_test, shuffle=True)\n",
    "\n",
    "loadDataSets()\n",
    "\n"
   ],
   "metadata": {
    "collapsed": false
   }
  },
  {
   "cell_type": "markdown",
   "source": [
    "Plot a subset of the Dataset"
   ],
   "metadata": {
    "collapsed": false
   }
  },
  {
   "cell_type": "code",
   "execution_count": 58,
   "outputs": [
    {
     "data": {
      "text/plain": "<Figure size 640x480 with 6 Axes>",
      "image/png": "[encoded data removed]"
     },
     "metadata": {},
     "output_type": "display_data"
    }
   ],
   "source": [
    "import matplotlib.pyplot as plt\n",
    "\n",
    "examples = enumerate(train_loader)\n",
    "batch_idx, (example_data, example_targets) = next(examples)\n",
    "\n",
    "for i in range(6):\n",
    "  plt.subplot(2,3,i+1)\n",
    "  plt.tight_layout()\n",
    "  plt.imshow(example_data[i][0], cmap='gray', interpolation='none')\n",
    "  plt.title(\"Label: {}\".format(example_targets[i]))\n",
    "  plt.xticks([])\n",
    "  plt.yticks([])\n"
   ],
   "metadata": {
    "collapsed": false
   }
  },
  {
   "cell_type": "markdown",
   "source": [
    "Step 3: Construct Model"
   ],
   "metadata": {
    "collapsed": false
   }
  },
  {
   "cell_type": "code",
   "execution_count": 59,
   "outputs": [],
   "source": [
    "import torch\n",
    "import torch.nn as nn\n",
    "import torchvision\n",
    "import torch.nn.functional as F\n",
    "\n",
    "from torch import nn\n",
    "import torch.optim as optim\n",
    "\n",
    "from torch.autograd import Variable\n",
    "\n",
    "\n",
    "\n",
    "class CNN(torch.nn.Module):\n",
    "    def __init__(self):\n",
    "        super(CNN, self).__init__()\n",
    "        self.conv_1 = nn.Conv2d(in_channels=1, out_channels=32, kernel_size=3, stride=1, padding=1)\n",
    "        self.conv_2 = nn.Conv2d(in_channels=32, out_channels=64, kernel_size=3, stride=1, padding=1)\n",
    "        self.max_pool2d = nn.MaxPool2d(kernel_size=2, stride=2)\n",
    "        self.linear_1 = nn.Linear(7 * 7 * 64, 128)\n",
    "        self.linear_2 = nn.Linear(128, 256)\n",
    "        self.linear_3 = nn.Linear(256, 10)\n",
    "\n",
    "        self.sigmoid = nn.Sigmoid()\n",
    "        self.softmax = nn.Softmax(dim=1)\n",
    "\n",
    "    def forward(self, x):\n",
    "        x = self.conv_1(x)\n",
    "        x = self.sigmoid(x)\n",
    "        x = self.max_pool2d(x)\n",
    "        x = self.conv_2(x)\n",
    "        x = self.sigmoid(x)\n",
    "        x = self.max_pool2d(x)\n",
    "        x = x.reshape(x.size(0), -1)\n",
    "        x = self.linear_1(x)\n",
    "        x = self.sigmoid(x)\n",
    "\n",
    "        x = self.linear_2(x)\n",
    "        x = self.sigmoid(x)\n",
    "        x = self.linear_3(x)\n",
    "\n",
    "        x2 = self.softmax(x)\n",
    "\n",
    "        return x2, x\n",
    "\n",
    "\n",
    "def initializeModel(learning_rate):\n",
    "    global network\n",
    "    network = CNN()\n",
    "    print(network)\n",
    "\n",
    "    global loss_fn\n",
    "    loss_fn = nn.CrossEntropyLoss()\n",
    "\n",
    "    global optimizer\n",
    "    optimizer = torch.optim.Adam(params=network.parameters(), lr=learning_rate)\n",
    "\n"
   ],
   "metadata": {
    "collapsed": false
   }
  },
  {
   "cell_type": "markdown",
   "source": [
    "Step 4: Training the Model"
   ],
   "metadata": {
    "collapsed": false
   }
  },
  {
   "cell_type": "code",
   "execution_count": 60,
   "outputs": [],
   "source": [
    "import numpy\n",
    "from sklearn.model_selection import train_test_split\n",
    "\n",
    "crossEntropyLoss = nn.CrossEntropyLoss()\n",
    "\n",
    "log_interval = 100\n",
    "\n",
    "best_val_loss = 1\n",
    "\n",
    "train_losses = []\n",
    "train_counter = []\n",
    "test_losses = []\n",
    "test_counter = [i*len(train_loader.dataset) for i in range(n_epochs + 1)]\n",
    "# Training function. We simply have to loop over our data iterator and feed the inputs to the network and optimize.\n",
    "def train(num_epochs):\n",
    "\n",
    "    train_loss = list()\n",
    "    val_loss = list()\n",
    "\n",
    "    # Define your execution device\n",
    "    device = torch.device(\"cuda:0\" if torch.cuda.is_available() else \"cpu\")\n",
    "    print(\"The model will be running on\", device, \"device\")\n",
    "\n",
    "    network.to(device)\n",
    "\n",
    "    network.train()\n",
    "    total_train_loss = 0\n",
    "\n",
    "    for epoch in range(num_epochs):\n",
    "\n",
    "        for itr, (image, label) in enumerate(train_loader):\n",
    "\n",
    "\n",
    "            optimizer.zero_grad()\n",
    "            pred = network(image)[0]\n",
    "\n",
    "            loss = crossEntropyLoss(pred, label)\n",
    "            total_train_loss += loss.item()\n",
    "\n",
    "            loss.backward()\n",
    "            optimizer.step()\n",
    "\n",
    "            if itr  % log_interval == 0:\n",
    "                print('Train Epoch: {} [{}/{} ({:.0f}%)]\\tLoss: {:.6f}'.format(epoch, itr * len(image), len(train_loader.dataset), 100. * itr / len(train_loader), loss.item()))\n",
    "            train_losses.append(loss.item())\n",
    "            train_counter.append((batch_idx*64) + ((epoch-1)*len(train_loader.dataset)))\n",
    "            torch.save(network.state_dict(), './data/model.pth')\n",
    "            torch.save(optimizer.state_dict(), './data/optimizer.pth')\n"
   ],
   "metadata": {
    "collapsed": false
   }
  },
  {
   "cell_type": "markdown",
   "source": [
    "Test Model"
   ],
   "metadata": {
    "collapsed": false
   }
  },
  {
   "cell_type": "code",
   "execution_count": 61,
   "outputs": [
    {
     "name": "stdout",
     "output_type": "stream",
     "text": [
      "CNN(\n",
      "  (conv_1): Conv2d(1, 32, kernel_size=(3, 3), stride=(1, 1), padding=(1, 1))\n",
      "  (conv_2): Conv2d(32, 64, kernel_size=(3, 3), stride=(1, 1), padding=(1, 1))\n",
      "  (max_pool2d): MaxPool2d(kernel_size=2, stride=2, padding=0, dilation=1, ceil_mode=False)\n",
      "  (linear_1): Linear(in_features=3136, out_features=128, bias=True)\n",
      "  (linear_2): Linear(in_features=128, out_features=256, bias=True)\n",
      "  (linear_3): Linear(in_features=256, out_features=10, bias=True)\n",
      "  (sigmoid): Sigmoid()\n",
      "  (softmax): Softmax(dim=1)\n",
      ")\n"
     ]
    },
    {
     "name": "stderr",
     "output_type": "stream",
     "text": [
      "/Users/mstaylor/Documents/phd/courses/machineLearning/project/venv/lib/python3.9/site-packages/torch/nn/_reduction.py:42: UserWarning: size_average and reduce args will be deprecated, please use reduction='sum' instead.\n",
      "  warnings.warn(warning.format(ret))\n"
     ]
    },
    {
     "name": "stdout",
     "output_type": "stream",
     "text": [
      "\n",
      "Test set: Avg. loss: -0.0999, Accuracy: 980/10000 (10%)\n",
      "\n",
      "The model will be running on cpu device\n",
      "Train Epoch: 0 [0/60000 (0%)]\tLoss: 2.300617\n",
      "Train Epoch: 0 [6400/60000 (11%)]\tLoss: 2.302752\n",
      "Train Epoch: 0 [12800/60000 (21%)]\tLoss: 2.309408\n",
      "Train Epoch: 0 [19200/60000 (32%)]\tLoss: 2.321672\n",
      "Train Epoch: 0 [25600/60000 (43%)]\tLoss: 2.306833\n",
      "Train Epoch: 0 [32000/60000 (53%)]\tLoss: 2.302100\n",
      "Train Epoch: 0 [38400/60000 (64%)]\tLoss: 2.308223\n",
      "Train Epoch: 0 [44800/60000 (75%)]\tLoss: 2.304513\n",
      "Train Epoch: 0 [51200/60000 (85%)]\tLoss: 2.299071\n",
      "Train Epoch: 0 [57600/60000 (96%)]\tLoss: 2.299545\n",
      "\n",
      "Test set: Avg. loss: -0.1033, Accuracy: 1135/10000 (11%)\n",
      "\n",
      "The model will be running on cpu device\n",
      "Train Epoch: 0 [0/60000 (0%)]\tLoss: 2.283752\n",
      "Train Epoch: 0 [6400/60000 (11%)]\tLoss: 2.295406\n",
      "Train Epoch: 0 [12800/60000 (21%)]\tLoss: 2.299057\n",
      "Train Epoch: 0 [19200/60000 (32%)]\tLoss: 1.920545\n",
      "Train Epoch: 0 [25600/60000 (43%)]\tLoss: 1.781633\n",
      "Train Epoch: 0 [32000/60000 (53%)]\tLoss: 1.690995\n",
      "Train Epoch: 0 [38400/60000 (64%)]\tLoss: 1.623841\n",
      "Train Epoch: 0 [44800/60000 (75%)]\tLoss: 1.633036\n",
      "Train Epoch: 0 [51200/60000 (85%)]\tLoss: 1.668561\n",
      "Train Epoch: 0 [57600/60000 (96%)]\tLoss: 1.684163\n",
      "Train Epoch: 1 [0/60000 (0%)]\tLoss: 1.619025\n",
      "Train Epoch: 1 [6400/60000 (11%)]\tLoss: 1.548368\n",
      "Train Epoch: 1 [12800/60000 (21%)]\tLoss: 1.576476\n",
      "Train Epoch: 1 [19200/60000 (32%)]\tLoss: 1.578840\n",
      "Train Epoch: 1 [25600/60000 (43%)]\tLoss: 1.507225\n",
      "Train Epoch: 1 [32000/60000 (53%)]\tLoss: 1.527791\n",
      "Train Epoch: 1 [38400/60000 (64%)]\tLoss: 1.519946\n",
      "Train Epoch: 1 [44800/60000 (75%)]\tLoss: 1.533646\n",
      "Train Epoch: 1 [51200/60000 (85%)]\tLoss: 1.512579\n",
      "Train Epoch: 1 [57600/60000 (96%)]\tLoss: 1.519386\n",
      "\n",
      "Test set: Avg. loss: -0.9577, Accuracy: 9619/10000 (96%)\n",
      "\n",
      "The model will be running on cpu device\n",
      "Train Epoch: 0 [0/60000 (0%)]\tLoss: 1.520146\n",
      "Train Epoch: 0 [6400/60000 (11%)]\tLoss: 1.514176\n",
      "Train Epoch: 0 [12800/60000 (21%)]\tLoss: 1.464799\n",
      "Train Epoch: 0 [19200/60000 (32%)]\tLoss: 1.526128\n",
      "Train Epoch: 0 [25600/60000 (43%)]\tLoss: 1.521080\n",
      "Train Epoch: 0 [32000/60000 (53%)]\tLoss: 1.492287\n",
      "Train Epoch: 0 [38400/60000 (64%)]\tLoss: 1.498303\n",
      "Train Epoch: 0 [44800/60000 (75%)]\tLoss: 1.525992\n",
      "Train Epoch: 0 [51200/60000 (85%)]\tLoss: 1.507377\n",
      "Train Epoch: 0 [57600/60000 (96%)]\tLoss: 1.475215\n",
      "Train Epoch: 1 [0/60000 (0%)]\tLoss: 1.486485\n",
      "Train Epoch: 1 [6400/60000 (11%)]\tLoss: 1.478987\n",
      "Train Epoch: 1 [12800/60000 (21%)]\tLoss: 1.523940\n",
      "Train Epoch: 1 [19200/60000 (32%)]\tLoss: 1.517109\n",
      "Train Epoch: 1 [25600/60000 (43%)]\tLoss: 1.493868\n",
      "Train Epoch: 1 [32000/60000 (53%)]\tLoss: 1.481679\n",
      "Train Epoch: 1 [38400/60000 (64%)]\tLoss: 1.494427\n",
      "Train Epoch: 1 [44800/60000 (75%)]\tLoss: 1.467526\n",
      "Train Epoch: 1 [51200/60000 (85%)]\tLoss: 1.518442\n",
      "Train Epoch: 1 [57600/60000 (96%)]\tLoss: 1.477860\n",
      "Train Epoch: 2 [0/60000 (0%)]\tLoss: 1.479798\n",
      "Train Epoch: 2 [6400/60000 (11%)]\tLoss: 1.494485\n",
      "Train Epoch: 2 [12800/60000 (21%)]\tLoss: 1.476430\n",
      "Train Epoch: 2 [19200/60000 (32%)]\tLoss: 1.462680\n",
      "Train Epoch: 2 [25600/60000 (43%)]\tLoss: 1.504101\n",
      "Train Epoch: 2 [32000/60000 (53%)]\tLoss: 1.486063\n",
      "Train Epoch: 2 [38400/60000 (64%)]\tLoss: 1.469651\n",
      "Train Epoch: 2 [44800/60000 (75%)]\tLoss: 1.500451\n",
      "Train Epoch: 2 [51200/60000 (85%)]\tLoss: 1.505686\n",
      "Train Epoch: 2 [57600/60000 (96%)]\tLoss: 1.490575\n",
      "\n",
      "Test set: Avg. loss: -0.9712, Accuracy: 9739/10000 (97%)\n",
      "\n"
     ]
    }
   ],
   "source": [
    "def test():\n",
    "  network.eval()\n",
    "  test_loss = 0\n",
    "  correct = 0\n",
    "  with torch.no_grad():\n",
    "    for data, target in test_loader:\n",
    "      output = network(data)[0]\n",
    "      test_loss += F.nll_loss(output, target, size_average=False).item()\n",
    "      pred = output.data.max(1, keepdim=True)[1]\n",
    "      correct += pred.eq(target.data.view_as(pred)).sum()\n",
    "  test_loss /= len(test_loader.dataset)\n",
    "  test_losses.append(test_loss)\n",
    "  print('\\nTest set: Avg. loss: {:.4f}, Accuracy: {}/{} ({:.0f}%)\\n'.format(\n",
    "    test_loss, correct, len(test_loader.dataset),\n",
    "    100. * correct / len(test_loader.dataset)))\n",
    "\n",
    "initializeModel(0.001)\n",
    "\n",
    "train_losses = []\n",
    "train_counter = []\n",
    "test_losses = []\n",
    "test_counter = [i*len(train_loader.dataset) for i in range(n_epochs + 1)]\n",
    "\n",
    "\n",
    "test()\n",
    "for epoch in range(1, n_epochs + 1):\n",
    "  train(epoch)\n",
    "  test()\n"
   ],
   "metadata": {
    "collapsed": false
   }
  },
  {
   "cell_type": "markdown",
   "source": [
    "Show Model Performance"
   ],
   "metadata": {
    "collapsed": false
   }
  },
  {
   "cell_type": "code",
   "execution_count": 67,
   "outputs": [
    {
     "name": "stderr",
     "output_type": "stream",
     "text": [
      "/var/folders/7k/275tghp53d10sc13jdkx_xwm0000gp/T/ipykernel_8477/1926290494.py:12: MatplotlibDeprecationWarning: Auto-removal of overlapping axes is deprecated since 3.6 and will be removed two minor releases later; explicitly call ax.remove() as needed.\n",
      "  plt.subplot(2,3,i+1)\n"
     ]
    },
    {
     "data": {
      "text/plain": "<Figure size 640x480 with 6 Axes>",
      "image/png": "[encoded data removed]"
     },
     "metadata": {},
     "output_type": "display_data"
    }
   ],
   "source": [
    "\n",
    "plt.plot(train_counter, train_losses, color='blue')\n",
    "plt.scatter(test_counter, test_losses, color='red')\n",
    "plt.legend(['Train Loss', 'Test Loss'], loc='upper right')\n",
    "plt.xlabel('number of training examples seen')\n",
    "plt.ylabel('negative log likelihood loss')\n",
    "\n",
    "\n",
    "with torch.no_grad():\n",
    "  output = network(example_data)[0]\n",
    "\n",
    "for i in range(6):\n",
    "  plt.subplot(2,3,i+1)\n",
    "  plt.tight_layout()\n",
    "  plt.imshow(example_data[i][0], cmap='gray', interpolation='none')\n",
    "  plt.title(\"Prediction: {}\".format(\n",
    "    output.data.max(1, keepdim=True)[1][i].item()))\n",
    "  plt.xticks([])\n",
    "  plt.yticks([])\n"
   ],
   "metadata": {
    "collapsed": false
   }
  },
  {
   "cell_type": "code",
   "execution_count": null,
   "outputs": [],
   "source": [],
   "metadata": {
    "collapsed": false
   }
  }
 ],
 "metadata": {
  "kernelspec": {
   "display_name": "Python 3",
   "language": "python",
   "name": "python3"
  },
  "language_info": {
   "codemirror_mode": {
    "name": "ipython",
    "version": 2
   },
   "file_extension": ".py",
   "mimetype": "text/x-python",
   "name": "python",
   "nbconvert_exporter": "python",
   "pygments_lexer": "ipython2",
   "version": "2.7.6"
  }
 },
 "nbformat": 4,
 "nbformat_minor": 0
}
