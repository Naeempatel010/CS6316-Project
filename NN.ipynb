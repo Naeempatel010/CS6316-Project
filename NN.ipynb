{
 "cells": [
  {
   "cell_type": "markdown",
   "source": [
    "Step 1: Load the MNIST dataset"
   ],
   "metadata": {
    "collapsed": false
   }
  },
  {
   "cell_type": "code",
   "execution_count": 134,
   "outputs": [],
   "source": [
    "import torch as torch\n",
    "import torchvision as torchvision\n",
    "from torch.utils.data import DataLoader, Subset\n",
    "import torchvision.datasets as datasets\n",
    "import mnist_loader\n",
    "from torchvision import transforms\n",
    "\n",
    "batch_size_train = 64\n",
    "batch_size_test = 1000\n",
    "momentum = 0.5\n",
    "\n",
    "n_epochs = 3\n",
    "\n",
    "def loadDataSets():\n",
    "    global mnist_trainset\n",
    "\n",
    "    mnist_trainset = datasets.MNIST(root='./data', train=True,\n",
    "                                download=True,\n",
    "                                transform=transforms.Compose([transforms.ToTensor()]))\n",
    "\n",
    "    global train_loader\n",
    "    train_loader = torch.utils.data.DataLoader(mnist_trainset, batch_size=batch_size_train, shuffle=True)\n",
    "\n",
    "    mnist_testset = datasets.MNIST(root='./data', train=False,\n",
    "                                download=True,\n",
    "                                transform=transforms.Compose([transforms.ToTensor()]))\n",
    "\n",
    "    global test_loader\n",
    "    test_loader = torch.utils.data.DataLoader(mnist_testset, batch_size=batch_size_test, shuffle=True)\n",
    "\n",
    "loadDataSets()\n",
    "\n"
   ],
   "metadata": {
    "collapsed": false
   }
  },
  {
   "cell_type": "markdown",
   "source": [
    "Step 2: Plot a subset of the Dataset"
   ],
   "metadata": {
    "collapsed": false
   }
  },
  {
   "cell_type": "code",
   "execution_count": 135,
   "outputs": [
    {
     "data": {
      "text/plain": "<Figure size 640x480 with 6 Axes>",
      "image/png": "[encoded data removed]"
     },
     "metadata": {},
     "output_type": "display_data"
    }
   ],
   "source": [
    "import matplotlib.pyplot as plt\n",
    "\n",
    "examples = enumerate(train_loader)\n",
    "batch_idx, (example_data, example_targets) = next(examples)\n",
    "\n",
    "for i in range(6):\n",
    "  plt.subplot(2,3,i+1)\n",
    "  plt.tight_layout()\n",
    "  plt.imshow(example_data[i][0], cmap='Blues', interpolation='none')\n",
    "  plt.title(\"Label: {}\".format(example_targets[i]))\n",
    "  plt.xticks([])\n",
    "  plt.yticks([])\n"
   ],
   "metadata": {
    "collapsed": false
   }
  },
  {
   "cell_type": "markdown",
   "source": [
    "Step 3: Construct Model"
   ],
   "metadata": {
    "collapsed": false
   }
  },
  {
   "cell_type": "code",
   "execution_count": 136,
   "outputs": [],
   "source": [
    "import torch\n",
    "import torch.nn as nn\n",
    "import torchvision\n",
    "import torch.nn.functional as F\n",
    "\n",
    "from torch import nn\n",
    "import torch.optim as optim\n",
    "\n",
    "from torch.autograd import Variable\n",
    "\n",
    "\n",
    "\n",
    "class CNN(torch.nn.Module):\n",
    "    def __init__(self, initweights = False, usebias = False):\n",
    "        super(CNN, self).__init__()\n",
    "        self.conv_1 = nn.Conv2d(in_channels=1, out_channels=32, kernel_size=3, stride=1, padding=1, bias = usebias)\n",
    "\n",
    "        self.conv_2 = nn.Conv2d(in_channels=32, out_channels=64, kernel_size=3, stride=1, padding=1, bias = usebias)\n",
    "        self.max_pool2d = nn.MaxPool2d(kernel_size=2, stride=2)\n",
    "        self.linear_1 = nn.Linear(7 * 7 * 64, 128, bias=usebias)\n",
    "        self.linear_2 = nn.Linear(128, 256, bias=usebias)\n",
    "        self.linear_3 = nn.Linear(256, 10, bias=usebias)\n",
    "\n",
    "\n",
    "        self.sigmoid = nn.Sigmoid()\n",
    "        self.softmax = nn.Softmax(dim=1)\n",
    "        if initweights:\n",
    "            nn.init.kaiming_normal_(self.conv_1.weight, mode='fan_in', nonlinearity='relu')\n",
    "\n",
    "            nn.init.kaiming_normal_(self.conv_2.weight, mode='fan_in', nonlinearity='relu')\n",
    "            nn.init.kaiming_normal_(self.linear_1.weight, mode='fan_in',nonlinearity='relu')\n",
    "            nn.init.kaiming_normal_(self.linear_2.weight, mode='fan_in', nonlinearity='relu')\n",
    "            nn.init.xavier_normal_(self.linear_3.weight)\n",
    "\n",
    "\n",
    "    def forward(self, x):\n",
    "        x = self.conv_1(x)\n",
    "        x = self.sigmoid(x)\n",
    "        x = self.max_pool2d(x)\n",
    "        x = self.conv_2(x)\n",
    "        x = self.sigmoid(x)\n",
    "        x = self.max_pool2d(x)\n",
    "        x = x.reshape(x.size(0), -1)\n",
    "        x = self.linear_1(x)\n",
    "        x = self.sigmoid(x)\n",
    "        x = self.linear_2(x)\n",
    "        x = self.sigmoid(x)\n",
    "        x = self.linear_3(x)\n",
    "        out = self.softmax(x)\n",
    "\n",
    "        return out, x\n",
    "\n",
    "\n",
    "def initializeModel(learning_rate, initweightbias = False):\n",
    "    global cnn\n",
    "    cnn = CNN(initweightbias)\n",
    "\n",
    "    print(cnn)\n",
    "\n",
    "    global loss_fn\n",
    "    loss_fn = nn.CrossEntropyLoss()\n",
    "\n",
    "    global optimizer\n",
    "    optimizer = torch.optim.SGD(params=cnn.parameters(), lr=learning_rate, momentum=momentum)\n",
    "\n"
   ],
   "metadata": {
    "collapsed": false
   }
  },
  {
   "cell_type": "markdown",
   "source": [
    "Step 4: Training the Model"
   ],
   "metadata": {
    "collapsed": false
   }
  },
  {
   "cell_type": "code",
   "execution_count": 137,
   "outputs": [],
   "source": [
    "import numpy\n",
    "from sklearn.model_selection import train_test_split\n",
    "\n",
    "crossEntropyLoss = nn.CrossEntropyLoss()\n",
    "\n",
    "log_interval = 10\n",
    "\n",
    "best_val_loss = 1\n",
    "\n",
    "train_losses = []\n",
    "train_counter = []\n",
    "test_losses = []\n",
    "test_counter = [i*len(train_loader.dataset) for i in range(n_epochs + 1)]\n",
    "# Training function. We simply have to loop over our data iterator and feed the inputs to the network and optimize.\n",
    "def train(num_epochs):\n",
    "\n",
    "    train_loss = list()\n",
    "    val_loss = list()\n",
    "\n",
    "    # Define your execution device\n",
    "    device = torch.device(\"cuda:0\" if torch.cuda.is_available() else \"cpu\")\n",
    "    print(\"The model will be running on\", device, \"device\")\n",
    "\n",
    "    cnn.to(device)\n",
    "\n",
    "    cnn.train()\n",
    "    total_train_loss = 0\n",
    "\n",
    "    for epoch in range(num_epochs):\n",
    "\n",
    "        for itr, (image, label) in enumerate(train_loader):\n",
    "            optimizer.zero_grad()\n",
    "            pred = cnn(image)[0]\n",
    "\n",
    "            loss = crossEntropyLoss(pred, label)\n",
    "            total_train_loss += loss.item()\n",
    "\n",
    "            loss.backward()\n",
    "            optimizer.step()\n",
    "\n",
    "            if itr % log_interval == 0:\n",
    "                print('Train Epoch: {} [{}/{} ({:.0f}%)]\\tLoss: {:.6f}'.format(epoch, itr * len(image), len(train_loader.dataset), 100. * itr / len(train_loader), loss.item()))\n",
    "                train_losses.append(loss.item())\n",
    "                train_counter.append((itr*64) + ((epoch-1)*len(train_loader.dataset)))\n",
    "                #torch.save(cnn.state_dict(), './data/model.pth')\n",
    "                #torch.save(optimizer.state_dict(), './data/optimizer.pth')\n"
   ],
   "metadata": {
    "collapsed": false
   }
  },
  {
   "cell_type": "markdown",
   "source": [
    "Step 5: Test Model"
   ],
   "metadata": {
    "collapsed": false
   }
  },
  {
   "cell_type": "code",
   "execution_count": null,
   "outputs": [
    {
     "name": "stdout",
     "output_type": "stream",
     "text": [
      "CNN(\n",
      "  (conv_1): Conv2d(1, 32, kernel_size=(3, 3), stride=(1, 1), padding=(1, 1), bias=False)\n",
      "  (conv_2): Conv2d(32, 64, kernel_size=(3, 3), stride=(1, 1), padding=(1, 1), bias=False)\n",
      "  (max_pool2d): MaxPool2d(kernel_size=2, stride=2, padding=0, dilation=1, ceil_mode=False)\n",
      "  (linear_1): Linear(in_features=3136, out_features=128, bias=False)\n",
      "  (linear_2): Linear(in_features=128, out_features=256, bias=False)\n",
      "  (linear_3): Linear(in_features=256, out_features=10, bias=False)\n",
      "  (sigmoid): Sigmoid()\n",
      "  (softmax): Softmax(dim=1)\n",
      ")\n"
     ]
    },
    {
     "name": "stderr",
     "output_type": "stream",
     "text": [
      "/Users/mstaylor/Documents/phd/courses/machineLearning/project/venv/lib/python3.9/site-packages/torch/nn/_reduction.py:42: UserWarning: size_average and reduce args will be deprecated, please use reduction='sum' instead.\n",
      "  warnings.warn(warning.format(ret))\n"
     ]
    },
    {
     "name": "stdout",
     "output_type": "stream",
     "text": [
      "\n",
      "Testing: Avg. loss: -0.0998, Accuracy: 1010/10000 (10%)\n",
      "\n",
      "The model will be running on cpu device\n",
      "Train Epoch: 0 [0/60000 (0%)]\tLoss: 2.301920\n",
      "Train Epoch: 0 [640/60000 (1%)]\tLoss: 2.302039\n",
      "Train Epoch: 0 [1280/60000 (2%)]\tLoss: 2.303231\n",
      "Train Epoch: 0 [1920/60000 (3%)]\tLoss: 2.300175\n",
      "Train Epoch: 0 [2560/60000 (4%)]\tLoss: 2.298334\n",
      "Train Epoch: 0 [3200/60000 (5%)]\tLoss: 2.301350\n",
      "Train Epoch: 0 [3840/60000 (6%)]\tLoss: 2.307306\n",
      "Train Epoch: 0 [4480/60000 (7%)]\tLoss: 2.301052\n",
      "Train Epoch: 0 [5120/60000 (9%)]\tLoss: 2.301460\n",
      "Train Epoch: 0 [5760/60000 (10%)]\tLoss: 2.300871\n",
      "Train Epoch: 0 [6400/60000 (11%)]\tLoss: 2.301356\n",
      "Train Epoch: 0 [7040/60000 (12%)]\tLoss: 2.298739\n",
      "Train Epoch: 0 [7680/60000 (13%)]\tLoss: 2.302881\n",
      "Train Epoch: 0 [8320/60000 (14%)]\tLoss: 2.299943\n",
      "Train Epoch: 0 [8960/60000 (15%)]\tLoss: 2.303274\n",
      "Train Epoch: 0 [9600/60000 (16%)]\tLoss: 2.305310\n",
      "Train Epoch: 0 [10240/60000 (17%)]\tLoss: 2.303288\n",
      "Train Epoch: 0 [10880/60000 (18%)]\tLoss: 2.301383\n",
      "Train Epoch: 0 [11520/60000 (19%)]\tLoss: 2.304123\n",
      "Train Epoch: 0 [12160/60000 (20%)]\tLoss: 2.299685\n",
      "Train Epoch: 0 [12800/60000 (21%)]\tLoss: 2.299942\n",
      "Train Epoch: 0 [13440/60000 (22%)]\tLoss: 2.300981\n",
      "Train Epoch: 0 [14080/60000 (23%)]\tLoss: 2.296342\n",
      "Train Epoch: 0 [14720/60000 (25%)]\tLoss: 2.302189\n",
      "Train Epoch: 0 [15360/60000 (26%)]\tLoss: 2.300926\n",
      "Train Epoch: 0 [16000/60000 (27%)]\tLoss: 2.301057\n",
      "Train Epoch: 0 [16640/60000 (28%)]\tLoss: 2.303192\n",
      "Train Epoch: 0 [17280/60000 (29%)]\tLoss: 2.303009\n",
      "Train Epoch: 0 [17920/60000 (30%)]\tLoss: 2.300626\n",
      "Train Epoch: 0 [18560/60000 (31%)]\tLoss: 2.308306\n",
      "Train Epoch: 0 [19200/60000 (32%)]\tLoss: 2.294267\n",
      "Train Epoch: 0 [19840/60000 (33%)]\tLoss: 2.303910\n",
      "Train Epoch: 0 [20480/60000 (34%)]\tLoss: 2.302080\n",
      "Train Epoch: 0 [21120/60000 (35%)]\tLoss: 2.303670\n",
      "Train Epoch: 0 [21760/60000 (36%)]\tLoss: 2.299499\n",
      "Train Epoch: 0 [22400/60000 (37%)]\tLoss: 2.300355\n",
      "Train Epoch: 0 [23040/60000 (38%)]\tLoss: 2.303488\n",
      "Train Epoch: 0 [23680/60000 (39%)]\tLoss: 2.302436\n",
      "Train Epoch: 0 [24320/60000 (41%)]\tLoss: 2.303123\n",
      "Train Epoch: 0 [24960/60000 (42%)]\tLoss: 2.305354\n",
      "Train Epoch: 0 [25600/60000 (43%)]\tLoss: 2.299332\n",
      "Train Epoch: 0 [26240/60000 (44%)]\tLoss: 2.302613\n",
      "Train Epoch: 0 [26880/60000 (45%)]\tLoss: 2.303787\n",
      "Train Epoch: 0 [27520/60000 (46%)]\tLoss: 2.302771\n",
      "Train Epoch: 0 [28160/60000 (47%)]\tLoss: 2.298290\n",
      "Train Epoch: 0 [28800/60000 (48%)]\tLoss: 2.298918\n",
      "Train Epoch: 0 [29440/60000 (49%)]\tLoss: 2.298764\n",
      "Train Epoch: 0 [30080/60000 (50%)]\tLoss: 2.298784\n",
      "Train Epoch: 0 [30720/60000 (51%)]\tLoss: 2.297523\n",
      "Train Epoch: 0 [31360/60000 (52%)]\tLoss: 2.302058\n",
      "Train Epoch: 0 [32000/60000 (53%)]\tLoss: 2.304376\n",
      "Train Epoch: 0 [32640/60000 (54%)]\tLoss: 2.299735\n",
      "Train Epoch: 0 [33280/60000 (55%)]\tLoss: 2.297043\n",
      "Train Epoch: 0 [33920/60000 (57%)]\tLoss: 2.290566\n",
      "Train Epoch: 0 [34560/60000 (58%)]\tLoss: 2.299284\n",
      "Train Epoch: 0 [35200/60000 (59%)]\tLoss: 2.300791\n",
      "Train Epoch: 0 [35840/60000 (60%)]\tLoss: 2.303180\n",
      "Train Epoch: 0 [36480/60000 (61%)]\tLoss: 2.300147\n",
      "Train Epoch: 0 [37120/60000 (62%)]\tLoss: 2.304407\n",
      "Train Epoch: 0 [37760/60000 (63%)]\tLoss: 2.302900\n",
      "Train Epoch: 0 [38400/60000 (64%)]\tLoss: 2.304842\n",
      "Train Epoch: 0 [39040/60000 (65%)]\tLoss: 2.304141\n",
      "Train Epoch: 0 [39680/60000 (66%)]\tLoss: 2.297360\n",
      "Train Epoch: 0 [40320/60000 (67%)]\tLoss: 2.297941\n",
      "Train Epoch: 0 [40960/60000 (68%)]\tLoss: 2.298956\n",
      "Train Epoch: 0 [41600/60000 (69%)]\tLoss: 2.300735\n",
      "Train Epoch: 0 [42240/60000 (70%)]\tLoss: 2.301324\n",
      "Train Epoch: 0 [42880/60000 (71%)]\tLoss: 2.299100\n",
      "Train Epoch: 0 [43520/60000 (72%)]\tLoss: 2.306175\n",
      "Train Epoch: 0 [44160/60000 (74%)]\tLoss: 2.304204\n",
      "Train Epoch: 0 [44800/60000 (75%)]\tLoss: 2.296903\n",
      "Train Epoch: 0 [45440/60000 (76%)]\tLoss: 2.297563\n",
      "Train Epoch: 0 [46080/60000 (77%)]\tLoss: 2.303558\n",
      "Train Epoch: 0 [46720/60000 (78%)]\tLoss: 2.302947\n",
      "Train Epoch: 0 [47360/60000 (79%)]\tLoss: 2.303174\n",
      "Train Epoch: 0 [48000/60000 (80%)]\tLoss: 2.302581\n",
      "Train Epoch: 0 [48640/60000 (81%)]\tLoss: 2.298011\n",
      "Train Epoch: 0 [49280/60000 (82%)]\tLoss: 2.303236\n",
      "Train Epoch: 0 [49920/60000 (83%)]\tLoss: 2.302350\n",
      "Train Epoch: 0 [50560/60000 (84%)]\tLoss: 2.302337\n",
      "Train Epoch: 0 [51200/60000 (85%)]\tLoss: 2.304019\n",
      "Train Epoch: 0 [51840/60000 (86%)]\tLoss: 2.305781\n",
      "Train Epoch: 0 [52480/60000 (87%)]\tLoss: 2.307354\n",
      "Train Epoch: 0 [53120/60000 (88%)]\tLoss: 2.303401\n",
      "Train Epoch: 0 [53760/60000 (90%)]\tLoss: 2.303920\n",
      "Train Epoch: 0 [54400/60000 (91%)]\tLoss: 2.304775\n",
      "Train Epoch: 0 [55040/60000 (92%)]\tLoss: 2.298542\n",
      "Train Epoch: 0 [55680/60000 (93%)]\tLoss: 2.304081\n",
      "Train Epoch: 0 [56320/60000 (94%)]\tLoss: 2.302129\n",
      "Train Epoch: 0 [56960/60000 (95%)]\tLoss: 2.297136\n",
      "Train Epoch: 0 [57600/60000 (96%)]\tLoss: 2.292600\n",
      "Train Epoch: 0 [58240/60000 (97%)]\tLoss: 2.303216\n",
      "Train Epoch: 0 [58880/60000 (98%)]\tLoss: 2.310182\n",
      "Train Epoch: 0 [59520/60000 (99%)]\tLoss: 2.299428\n",
      "\n",
      "Testing: Avg. loss: -0.1021, Accuracy: 1135/10000 (11%)\n",
      "\n",
      "The model will be running on cpu device\n",
      "Train Epoch: 0 [0/60000 (0%)]\tLoss: 2.305852\n",
      "Train Epoch: 0 [640/60000 (1%)]\tLoss: 2.308169\n",
      "Train Epoch: 0 [1280/60000 (2%)]\tLoss: 2.303302\n",
      "Train Epoch: 0 [1920/60000 (3%)]\tLoss: 2.291494\n",
      "Train Epoch: 0 [2560/60000 (4%)]\tLoss: 2.295261\n",
      "Train Epoch: 0 [3200/60000 (5%)]\tLoss: 2.301408\n",
      "Train Epoch: 0 [3840/60000 (6%)]\tLoss: 2.299864\n",
      "Train Epoch: 0 [4480/60000 (7%)]\tLoss: 2.306028\n",
      "Train Epoch: 0 [5120/60000 (9%)]\tLoss: 2.295993\n",
      "Train Epoch: 0 [5760/60000 (10%)]\tLoss: 2.306005\n",
      "Train Epoch: 0 [6400/60000 (11%)]\tLoss: 2.300925\n",
      "Train Epoch: 0 [7040/60000 (12%)]\tLoss: 2.302789\n",
      "Train Epoch: 0 [7680/60000 (13%)]\tLoss: 2.308067\n",
      "Train Epoch: 0 [8320/60000 (14%)]\tLoss: 2.306760\n",
      "Train Epoch: 0 [8960/60000 (15%)]\tLoss: 2.309802\n",
      "Train Epoch: 0 [9600/60000 (16%)]\tLoss: 2.304675\n",
      "Train Epoch: 0 [10240/60000 (17%)]\tLoss: 2.299994\n",
      "Train Epoch: 0 [10880/60000 (18%)]\tLoss: 2.299730\n",
      "Train Epoch: 0 [11520/60000 (19%)]\tLoss: 2.304329\n",
      "Train Epoch: 0 [12160/60000 (20%)]\tLoss: 2.303375\n",
      "Train Epoch: 0 [12800/60000 (21%)]\tLoss: 2.308981\n",
      "Train Epoch: 0 [13440/60000 (22%)]\tLoss: 2.293216\n",
      "Train Epoch: 0 [14080/60000 (23%)]\tLoss: 2.306430\n",
      "Train Epoch: 0 [14720/60000 (25%)]\tLoss: 2.306466\n",
      "Train Epoch: 0 [15360/60000 (26%)]\tLoss: 2.304095\n",
      "Train Epoch: 0 [16000/60000 (27%)]\tLoss: 2.307563\n",
      "Train Epoch: 0 [16640/60000 (28%)]\tLoss: 2.303714\n",
      "Train Epoch: 0 [17280/60000 (29%)]\tLoss: 2.297231\n",
      "Train Epoch: 0 [17920/60000 (30%)]\tLoss: 2.294715\n",
      "Train Epoch: 0 [18560/60000 (31%)]\tLoss: 2.298929\n",
      "Train Epoch: 0 [19200/60000 (32%)]\tLoss: 2.303188\n",
      "Train Epoch: 0 [19840/60000 (33%)]\tLoss: 2.291983\n",
      "Train Epoch: 0 [20480/60000 (34%)]\tLoss: 2.302574\n",
      "Train Epoch: 0 [21120/60000 (35%)]\tLoss: 2.299896\n",
      "Train Epoch: 0 [21760/60000 (36%)]\tLoss: 2.297709\n",
      "Train Epoch: 0 [22400/60000 (37%)]\tLoss: 2.296831\n",
      "Train Epoch: 0 [23040/60000 (38%)]\tLoss: 2.305775\n",
      "Train Epoch: 0 [23680/60000 (39%)]\tLoss: 2.303925\n",
      "Train Epoch: 0 [24320/60000 (41%)]\tLoss: 2.300744\n",
      "Train Epoch: 0 [24960/60000 (42%)]\tLoss: 2.298085\n",
      "Train Epoch: 0 [25600/60000 (43%)]\tLoss: 2.299559\n",
      "Train Epoch: 0 [26240/60000 (44%)]\tLoss: 2.303594\n",
      "Train Epoch: 0 [26880/60000 (45%)]\tLoss: 2.299746\n",
      "Train Epoch: 0 [27520/60000 (46%)]\tLoss: 2.299324\n",
      "Train Epoch: 0 [28160/60000 (47%)]\tLoss: 2.304061\n",
      "Train Epoch: 0 [28800/60000 (48%)]\tLoss: 2.301116\n",
      "Train Epoch: 0 [29440/60000 (49%)]\tLoss: 2.303615\n",
      "Train Epoch: 0 [30080/60000 (50%)]\tLoss: 2.307245\n",
      "Train Epoch: 0 [30720/60000 (51%)]\tLoss: 2.292520\n",
      "Train Epoch: 0 [31360/60000 (52%)]\tLoss: 2.308174\n",
      "Train Epoch: 0 [32000/60000 (53%)]\tLoss: 2.303540\n",
      "Train Epoch: 0 [32640/60000 (54%)]\tLoss: 2.299208\n",
      "Train Epoch: 0 [33280/60000 (55%)]\tLoss: 2.299028\n",
      "Train Epoch: 0 [33920/60000 (57%)]\tLoss: 2.297839\n",
      "Train Epoch: 0 [34560/60000 (58%)]\tLoss: 2.302520\n",
      "Train Epoch: 0 [35200/60000 (59%)]\tLoss: 2.312241\n",
      "Train Epoch: 0 [35840/60000 (60%)]\tLoss: 2.302969\n",
      "Train Epoch: 0 [36480/60000 (61%)]\tLoss: 2.286420\n",
      "Train Epoch: 0 [37120/60000 (62%)]\tLoss: 2.300219\n",
      "Train Epoch: 0 [37760/60000 (63%)]\tLoss: 2.292741\n",
      "Train Epoch: 0 [38400/60000 (64%)]\tLoss: 2.306229\n",
      "Train Epoch: 0 [39040/60000 (65%)]\tLoss: 2.309781\n",
      "Train Epoch: 0 [39680/60000 (66%)]\tLoss: 2.307247\n",
      "Train Epoch: 0 [40320/60000 (67%)]\tLoss: 2.301663\n",
      "Train Epoch: 0 [40960/60000 (68%)]\tLoss: 2.313487\n",
      "Train Epoch: 0 [41600/60000 (69%)]\tLoss: 2.308017\n",
      "Train Epoch: 0 [42240/60000 (70%)]\tLoss: 2.306389\n",
      "Train Epoch: 0 [42880/60000 (71%)]\tLoss: 2.307436\n",
      "Train Epoch: 0 [43520/60000 (72%)]\tLoss: 2.295291\n",
      "Train Epoch: 0 [44160/60000 (74%)]\tLoss: 2.298205\n",
      "Train Epoch: 0 [44800/60000 (75%)]\tLoss: 2.305900\n",
      "Train Epoch: 0 [45440/60000 (76%)]\tLoss: 2.297961\n",
      "Train Epoch: 0 [46080/60000 (77%)]\tLoss: 2.297173\n",
      "Train Epoch: 0 [46720/60000 (78%)]\tLoss: 2.307974\n",
      "Train Epoch: 0 [47360/60000 (79%)]\tLoss: 2.295640\n",
      "Train Epoch: 0 [48000/60000 (80%)]\tLoss: 2.304670\n",
      "Train Epoch: 0 [48640/60000 (81%)]\tLoss: 2.295102\n",
      "Train Epoch: 0 [49280/60000 (82%)]\tLoss: 2.311509\n",
      "Train Epoch: 0 [49920/60000 (83%)]\tLoss: 2.314982\n",
      "Train Epoch: 0 [50560/60000 (84%)]\tLoss: 2.312145\n",
      "Train Epoch: 0 [51200/60000 (85%)]\tLoss: 2.305099\n",
      "Train Epoch: 0 [51840/60000 (86%)]\tLoss: 2.297627\n",
      "Train Epoch: 0 [52480/60000 (87%)]\tLoss: 2.305413\n",
      "Train Epoch: 0 [53120/60000 (88%)]\tLoss: 2.302595\n",
      "Train Epoch: 0 [53760/60000 (90%)]\tLoss: 2.297756\n",
      "Train Epoch: 0 [54400/60000 (91%)]\tLoss: 2.302231\n",
      "Train Epoch: 0 [55040/60000 (92%)]\tLoss: 2.293199\n",
      "Train Epoch: 0 [55680/60000 (93%)]\tLoss: 2.297022\n",
      "Train Epoch: 0 [56320/60000 (94%)]\tLoss: 2.303052\n",
      "Train Epoch: 0 [56960/60000 (95%)]\tLoss: 2.306732\n",
      "Train Epoch: 0 [57600/60000 (96%)]\tLoss: 2.299334\n",
      "Train Epoch: 0 [58240/60000 (97%)]\tLoss: 2.300288\n",
      "Train Epoch: 0 [58880/60000 (98%)]\tLoss: 2.306616\n",
      "Train Epoch: 0 [59520/60000 (99%)]\tLoss: 2.290245\n",
      "Train Epoch: 1 [0/60000 (0%)]\tLoss: 2.304411\n",
      "Train Epoch: 1 [640/60000 (1%)]\tLoss: 2.291799\n",
      "Train Epoch: 1 [1280/60000 (2%)]\tLoss: 2.289843\n",
      "Train Epoch: 1 [1920/60000 (3%)]\tLoss: 2.290831\n",
      "Train Epoch: 1 [2560/60000 (4%)]\tLoss: 2.309820\n",
      "Train Epoch: 1 [3200/60000 (5%)]\tLoss: 2.301723\n",
      "Train Epoch: 1 [3840/60000 (6%)]\tLoss: 2.288587\n",
      "Train Epoch: 1 [4480/60000 (7%)]\tLoss: 2.283928\n",
      "Train Epoch: 1 [5120/60000 (9%)]\tLoss: 2.304434\n",
      "Train Epoch: 1 [5760/60000 (10%)]\tLoss: 2.307210\n",
      "Train Epoch: 1 [6400/60000 (11%)]\tLoss: 2.303918\n",
      "Train Epoch: 1 [7040/60000 (12%)]\tLoss: 2.296934\n"
     ]
    }
   ],
   "source": [
    "def test():\n",
    "  cnn.eval()\n",
    "  test_loss = 0\n",
    "  correct = 0\n",
    "  with torch.no_grad():\n",
    "    for data, target in test_loader:\n",
    "      output = cnn(data)[0]\n",
    "      test_loss += F.nll_loss(output, target, size_average=False).item()\n",
    "      pred = output.data.max(1, keepdim=True)[1]\n",
    "      correct += pred.eq(target.data.view_as(pred)).sum()\n",
    "  test_loss /= len(test_loader.dataset)\n",
    "  test_losses.append(test_loss)\n",
    "  print('\\nTesting: Avg. loss: {:.4f}, Accuracy: {}/{} ({:.0f}%)\\n'.format(\n",
    "    test_loss, correct, len(test_loader.dataset),\n",
    "    100. * correct / len(test_loader.dataset)))\n",
    "\n",
    "initializeModel(0.01, False)\n",
    "\n",
    "train_losses = []\n",
    "train_counter = []\n",
    "test_losses = []\n",
    "\n",
    "test()\n",
    "for epoch in range(1, n_epochs + 1):\n",
    "  train(epoch)\n",
    "  test()\n"
   ],
   "metadata": {
    "collapsed": false,
    "pycharm": {
     "is_executing": true
    }
   }
  },
  {
   "cell_type": "markdown",
   "source": [
    "Step 6: Show Model Performance"
   ],
   "metadata": {
    "collapsed": false
   }
  },
  {
   "cell_type": "code",
   "execution_count": null,
   "outputs": [],
   "source": [
    "\n",
    "plt.plot(train_counter, train_losses, color='green')\n",
    "plt.scatter(test_counter, test_losses, color='red')\n",
    "plt.legend(['Training Loss', 'Testing Loss'], loc='upper right')\n",
    "plt.xlabel('number of training examples')\n",
    "plt.ylabel('negative log likelihood loss')\n",
    "\n",
    "\n"
   ],
   "metadata": {
    "collapsed": false,
    "pycharm": {
     "is_executing": true
    }
   }
  },
  {
   "cell_type": "markdown",
   "source": [
    "Step 8: Show prediction"
   ],
   "metadata": {
    "collapsed": false
   }
  },
  {
   "cell_type": "code",
   "execution_count": 130,
   "outputs": [
    {
     "data": {
      "text/plain": "<Figure size 640x480 with 6 Axes>",
      "image/png": "[encoded data removed]"
     },
     "metadata": {},
     "output_type": "display_data"
    }
   ],
   "source": [
    "with torch.no_grad():\n",
    "  output = cnn(example_data)[0]\n",
    "\n",
    "for i in range(6):\n",
    "  plt.subplot(2,3,i+1)\n",
    "  plt.tight_layout()\n",
    "  plt.imshow(example_data[i][0], cmap='Blues', interpolation='none')\n",
    "  plt.title(\"Prediction: {}\".format(\n",
    "    output.data.max(1, keepdim=True)[1][i].item()))\n",
    "  plt.xticks([])\n",
    "  plt.yticks([])"
   ],
   "metadata": {
    "collapsed": false
   }
  },
  {
   "cell_type": "code",
   "execution_count": null,
   "outputs": [],
   "source": [],
   "metadata": {
    "collapsed": false
   }
  }
 ],
 "metadata": {
  "kernelspec": {
   "display_name": "Python 3",
   "language": "python",
   "name": "python3"
  },
  "language_info": {
   "codemirror_mode": {
    "name": "ipython",
    "version": 2
   },
   "file_extension": ".py",
   "mimetype": "text/x-python",
   "name": "python",
   "nbconvert_exporter": "python",
   "pygments_lexer": "ipython2",
   "version": "2.7.6"
  }
 },
 "nbformat": 4,
 "nbformat_minor": 0
}
