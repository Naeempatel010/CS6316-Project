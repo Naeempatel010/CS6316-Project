{
  "nbformat": 4,
  "nbformat_minor": 0,
  "metadata": {
    "colab": {
      "provenance": []
    },
    "kernelspec": {
      "name": "python3",
      "display_name": "Python 3"
    },
    "language_info": {
      "name": "python"
    }
  },
  "cells": [
    {
      "cell_type": "code",
      "execution_count": 16,
      "metadata": {
        "id": "LIHSfBBIWpZI"
      },
      "outputs": [],
      "source": [
        "import pandas as pd \n",
        "from sklearn.svm import SVC\n",
        "from sklearn.model_selection import train_test_split\n",
        "from sklearn import preprocessing\n",
        "from sklearn.model_selection import RepeatedStratifiedKFold,cross_val_score\n",
        "from sklearn.model_selection import GridSearchCV\n",
        "from sklearn.metrics import confusion_matrix, precision_score, recall_score, auc,roc_curve\n",
        "from sklearn.preprocessing import StandardScaler\n",
        "import numpy as np \n"
      ]
    },
    {
      "cell_type": "code",
      "source": [
        "\n",
        "scaler = StandardScaler()\n",
        "df_dataset_1 = pd.read_csv(\"project3_dataset1.txt\",sep=\"\\t\", header=None)\n",
        "X,y = df_dataset_1.iloc[:,:-1].to_numpy(), df_dataset_1.iloc[:,-1].to_numpy()\n",
        "X = scaler.fit_transform(X)\n",
        "X_train, X_test,y_train, y_test = train_test_split(X,y,test_size=0.2,random_state=42)"
      ],
      "metadata": {
        "id": "Wv5V9Y8JWvca"
      },
      "execution_count": 9,
      "outputs": []
    },
    {
      "cell_type": "code",
      "source": [
        "#No Hyperparameter tuning\n",
        "clf = SVC()\n",
        "clf.fit(X_train,y_train)\n",
        "clf.score(X_test,y_test)\n",
        "\n"
      ],
      "metadata": {
        "colab": {
          "base_uri": "https://localhost:8080/"
        },
        "id": "XUYIrSybXzQ_",
        "outputId": "206b6c7f-140d-4d13-ef52-d89ccbfcd42a"
      },
      "execution_count": 13,
      "outputs": [
        {
          "output_type": "execute_result",
          "data": {
            "text/plain": [
              "0.9736842105263158"
            ]
          },
          "metadata": {},
          "execution_count": 13
        }
      ]
    },
    {
      "cell_type": "code",
      "source": [
        "def tuning_svm(X_train,y_train):\n",
        "  c_values = [0.1, 1, 10, 100, 1000,10000]\n",
        "  gamma = [1, 0.1, 0.01, 0.001, 0.0001]\n",
        "  kernel = ['linear', 'poly', 'rbf', 'sigmoid']\n",
        "  param_grid = dict(C=c_values,gamma=gamma,kernel=kernel)\n",
        "  cv = RepeatedStratifiedKFold(n_splits=10, n_repeats=3, random_state=1)\n",
        "  clf = SVC()\n",
        "  grid_search = GridSearchCV(estimator=clf, param_grid=param_grid, n_jobs=-1, cv=cv, scoring='accuracy',error_score=0)\n",
        "  grid_result = grid_search.fit(X_train, y_train)\n",
        "  print(\"Best: %f using %s\" % (grid_result.best_score_, grid_result.best_params_))\n",
        "  means = grid_result.cv_results_['mean_test_score']\n",
        "  stds = grid_result.cv_results_['std_test_score']\n",
        "  params = grid_result.cv_results_['params']\n",
        "  for mean, stdev, param in zip(means, stds, params):\n",
        "    print(\"%f (%f) with: %r\" % (mean, stdev, param))\n",
        "\n",
        "\n",
        "tuning_svm(X_train,y_train)"
      ],
      "metadata": {
        "colab": {
          "base_uri": "https://localhost:8080/"
        },
        "id": "dX5mSsNcYQ8E",
        "outputId": "80e2cd44-d4d9-4d65-9713-a704131c3c13"
      },
      "execution_count": 23,
      "outputs": [
        {
          "output_type": "stream",
          "name": "stdout",
          "text": [
            "Best: 0.977279 using {'C': 10, 'gamma': 0.01, 'kernel': 'rbf'}\n",
            "0.972866 (0.025178) with: {'C': 0.1, 'gamma': 1, 'kernel': 'linear'}\n",
            "0.949436 (0.032698) with: {'C': 0.1, 'gamma': 1, 'kernel': 'poly'}\n",
            "0.635217 (0.007898) with: {'C': 0.1, 'gamma': 1, 'kernel': 'rbf'}\n",
            "0.918100 (0.035384) with: {'C': 0.1, 'gamma': 1, 'kernel': 'sigmoid'}\n",
            "0.972866 (0.025178) with: {'C': 0.1, 'gamma': 0.1, 'kernel': 'linear'}\n",
            "0.928889 (0.034976) with: {'C': 0.1, 'gamma': 0.1, 'kernel': 'poly'}\n",
            "0.942818 (0.036422) with: {'C': 0.1, 'gamma': 0.1, 'kernel': 'rbf'}\n",
            "0.948019 (0.029753) with: {'C': 0.1, 'gamma': 0.1, 'kernel': 'sigmoid'}\n",
            "0.972866 (0.025178) with: {'C': 0.1, 'gamma': 0.01, 'kernel': 'linear'}\n",
            "0.674718 (0.028865) with: {'C': 0.1, 'gamma': 0.01, 'kernel': 'poly'}\n",
            "0.947230 (0.033980) with: {'C': 0.1, 'gamma': 0.01, 'kernel': 'rbf'}\n",
            "0.939919 (0.035034) with: {'C': 0.1, 'gamma': 0.01, 'kernel': 'sigmoid'}\n",
            "0.972866 (0.025178) with: {'C': 0.1, 'gamma': 0.001, 'kernel': 'linear'}\n",
            "0.635217 (0.007898) with: {'C': 0.1, 'gamma': 0.001, 'kernel': 'poly'}\n",
            "0.764783 (0.034393) with: {'C': 0.1, 'gamma': 0.001, 'kernel': 'rbf'}\n",
            "0.650628 (0.020645) with: {'C': 0.1, 'gamma': 0.001, 'kernel': 'sigmoid'}\n",
            "0.972866 (0.025178) with: {'C': 0.1, 'gamma': 0.0001, 'kernel': 'linear'}\n",
            "0.635217 (0.007898) with: {'C': 0.1, 'gamma': 0.0001, 'kernel': 'poly'}\n",
            "0.635217 (0.007898) with: {'C': 0.1, 'gamma': 0.0001, 'kernel': 'rbf'}\n",
            "0.635217 (0.007898) with: {'C': 0.1, 'gamma': 0.0001, 'kernel': 'sigmoid'}\n",
            "0.968502 (0.024567) with: {'C': 1, 'gamma': 1, 'kernel': 'linear'}\n",
            "0.949436 (0.032698) with: {'C': 1, 'gamma': 1, 'kernel': 'poly'}\n",
            "0.635217 (0.007898) with: {'C': 1, 'gamma': 1, 'kernel': 'rbf'}\n",
            "0.879968 (0.045740) with: {'C': 1, 'gamma': 1, 'kernel': 'sigmoid'}\n",
            "0.968502 (0.024567) with: {'C': 1, 'gamma': 0.1, 'kernel': 'linear'}\n",
            "0.964106 (0.033783) with: {'C': 1, 'gamma': 0.1, 'kernel': 'poly'}\n",
            "0.962593 (0.030213) with: {'C': 1, 'gamma': 0.1, 'kernel': 'rbf'}\n",
            "0.931916 (0.031635) with: {'C': 1, 'gamma': 0.1, 'kernel': 'sigmoid'}\n",
            "0.968502 (0.024567) with: {'C': 1, 'gamma': 0.01, 'kernel': 'linear'}\n",
            "0.769082 (0.040767) with: {'C': 1, 'gamma': 0.01, 'kernel': 'poly'}\n",
            "0.971369 (0.028032) with: {'C': 1, 'gamma': 0.01, 'kernel': 'rbf'}\n",
            "0.960370 (0.033512) with: {'C': 1, 'gamma': 0.01, 'kernel': 'sigmoid'}\n",
            "0.968502 (0.024567) with: {'C': 1, 'gamma': 0.001, 'kernel': 'linear'}\n",
            "0.635217 (0.007898) with: {'C': 1, 'gamma': 0.001, 'kernel': 'poly'}\n",
            "0.953076 (0.033137) with: {'C': 1, 'gamma': 0.001, 'kernel': 'rbf'}\n",
            "0.942834 (0.034439) with: {'C': 1, 'gamma': 0.001, 'kernel': 'sigmoid'}\n",
            "0.968502 (0.024567) with: {'C': 1, 'gamma': 0.0001, 'kernel': 'linear'}\n",
            "0.635217 (0.007898) with: {'C': 1, 'gamma': 0.0001, 'kernel': 'poly'}\n",
            "0.770644 (0.035999) with: {'C': 1, 'gamma': 0.0001, 'kernel': 'rbf'}\n",
            "0.650628 (0.020645) with: {'C': 1, 'gamma': 0.0001, 'kernel': 'sigmoid'}\n",
            "0.961208 (0.026432) with: {'C': 10, 'gamma': 1, 'kernel': 'linear'}\n",
            "0.949436 (0.032698) with: {'C': 10, 'gamma': 1, 'kernel': 'poly'}\n",
            "0.637407 (0.008511) with: {'C': 10, 'gamma': 1, 'kernel': 'rbf'}\n",
            "0.873333 (0.050331) with: {'C': 10, 'gamma': 1, 'kernel': 'sigmoid'}\n",
            "0.961208 (0.026432) with: {'C': 10, 'gamma': 0.1, 'kernel': 'linear'}\n",
            "0.952383 (0.032115) with: {'C': 10, 'gamma': 0.1, 'kernel': 'poly'}\n",
            "0.949469 (0.028444) with: {'C': 10, 'gamma': 0.1, 'kernel': 'rbf'}\n",
            "0.910789 (0.047075) with: {'C': 10, 'gamma': 0.1, 'kernel': 'sigmoid'}\n",
            "0.961208 (0.026432) with: {'C': 10, 'gamma': 0.01, 'kernel': 'linear'}\n",
            "0.870258 (0.046103) with: {'C': 10, 'gamma': 0.01, 'kernel': 'poly'}\n",
            "0.977279 (0.020808) with: {'C': 10, 'gamma': 0.01, 'kernel': 'rbf'}\n",
            "0.956763 (0.032905) with: {'C': 10, 'gamma': 0.01, 'kernel': 'sigmoid'}\n",
            "0.961208 (0.026432) with: {'C': 10, 'gamma': 0.001, 'kernel': 'linear'}\n",
            "0.637407 (0.010264) with: {'C': 10, 'gamma': 0.001, 'kernel': 'poly'}\n",
            "0.972110 (0.026692) with: {'C': 10, 'gamma': 0.001, 'kernel': 'rbf'}\n",
            "0.966232 (0.032680) with: {'C': 10, 'gamma': 0.001, 'kernel': 'sigmoid'}\n",
            "0.961208 (0.026432) with: {'C': 10, 'gamma': 0.0001, 'kernel': 'linear'}\n",
            "0.635217 (0.007898) with: {'C': 10, 'gamma': 0.0001, 'kernel': 'poly'}\n",
            "0.953076 (0.033137) with: {'C': 10, 'gamma': 0.0001, 'kernel': 'rbf'}\n",
            "0.942834 (0.034439) with: {'C': 10, 'gamma': 0.0001, 'kernel': 'sigmoid'}\n",
            "0.952399 (0.028490) with: {'C': 100, 'gamma': 1, 'kernel': 'linear'}\n",
            "0.949436 (0.032698) with: {'C': 100, 'gamma': 1, 'kernel': 'poly'}\n",
            "0.637407 (0.008511) with: {'C': 100, 'gamma': 1, 'kernel': 'rbf'}\n",
            "0.869678 (0.052557) with: {'C': 100, 'gamma': 1, 'kernel': 'sigmoid'}\n",
            "0.952399 (0.028490) with: {'C': 100, 'gamma': 0.1, 'kernel': 'linear'}\n",
            "0.949436 (0.032698) with: {'C': 100, 'gamma': 0.1, 'kernel': 'poly'}\n",
            "0.948003 (0.027977) with: {'C': 100, 'gamma': 0.1, 'kernel': 'rbf'}\n",
            "0.915217 (0.046859) with: {'C': 100, 'gamma': 0.1, 'kernel': 'sigmoid'}\n",
            "0.952399 (0.028490) with: {'C': 100, 'gamma': 0.01, 'kernel': 'linear'}\n",
            "0.928889 (0.034976) with: {'C': 100, 'gamma': 0.01, 'kernel': 'poly'}\n",
            "0.966264 (0.028329) with: {'C': 100, 'gamma': 0.01, 'kernel': 'rbf'}\n",
            "0.945765 (0.030471) with: {'C': 100, 'gamma': 0.01, 'kernel': 'sigmoid'}\n",
            "0.952399 (0.028490) with: {'C': 100, 'gamma': 0.001, 'kernel': 'linear'}\n",
            "0.674718 (0.028865) with: {'C': 100, 'gamma': 0.001, 'kernel': 'poly'}\n",
            "0.971401 (0.025529) with: {'C': 100, 'gamma': 0.001, 'kernel': 'rbf'}\n",
            "0.972126 (0.026616) with: {'C': 100, 'gamma': 0.001, 'kernel': 'sigmoid'}\n",
            "0.952399 (0.028490) with: {'C': 100, 'gamma': 0.0001, 'kernel': 'linear'}\n",
            "0.635217 (0.007898) with: {'C': 100, 'gamma': 0.0001, 'kernel': 'poly'}\n",
            "0.972834 (0.026554) with: {'C': 100, 'gamma': 0.0001, 'kernel': 'rbf'}\n",
            "0.966232 (0.032680) with: {'C': 100, 'gamma': 0.0001, 'kernel': 'sigmoid'}\n",
            "0.945749 (0.027747) with: {'C': 1000, 'gamma': 1, 'kernel': 'linear'}\n",
            "0.949436 (0.032698) with: {'C': 1000, 'gamma': 1, 'kernel': 'poly'}\n",
            "0.637407 (0.008511) with: {'C': 1000, 'gamma': 1, 'kernel': 'rbf'}\n",
            "0.868953 (0.052703) with: {'C': 1000, 'gamma': 1, 'kernel': 'sigmoid'}\n",
            "0.945749 (0.027747) with: {'C': 1000, 'gamma': 0.1, 'kernel': 'linear'}\n",
            "0.949436 (0.032698) with: {'C': 1000, 'gamma': 0.1, 'kernel': 'poly'}\n",
            "0.948003 (0.027977) with: {'C': 1000, 'gamma': 0.1, 'kernel': 'rbf'}\n",
            "0.914444 (0.041153) with: {'C': 1000, 'gamma': 0.1, 'kernel': 'sigmoid'}\n",
            "0.945749 (0.027747) with: {'C': 1000, 'gamma': 0.01, 'kernel': 'linear'}\n",
            "0.964106 (0.033783) with: {'C': 1000, 'gamma': 0.01, 'kernel': 'poly'}\n",
            "0.954589 (0.026560) with: {'C': 1000, 'gamma': 0.01, 'kernel': 'rbf'}\n",
            "0.942802 (0.032102) with: {'C': 1000, 'gamma': 0.01, 'kernel': 'sigmoid'}\n",
            "0.945749 (0.027747) with: {'C': 1000, 'gamma': 0.001, 'kernel': 'linear'}\n",
            "0.769082 (0.040767) with: {'C': 1000, 'gamma': 0.001, 'kernel': 'poly'}\n",
            "0.964767 (0.026510) with: {'C': 1000, 'gamma': 0.001, 'kernel': 'rbf'}\n",
            "0.969227 (0.023873) with: {'C': 1000, 'gamma': 0.001, 'kernel': 'sigmoid'}\n",
            "0.945749 (0.027747) with: {'C': 1000, 'gamma': 0.0001, 'kernel': 'linear'}\n",
            "0.635217 (0.007898) with: {'C': 1000, 'gamma': 0.0001, 'kernel': 'poly'}\n",
            "0.970660 (0.026235) with: {'C': 1000, 'gamma': 0.0001, 'kernel': 'rbf'}\n",
            "0.972866 (0.025178) with: {'C': 1000, 'gamma': 0.0001, 'kernel': 'sigmoid'}\n",
            "0.945749 (0.027747) with: {'C': 10000, 'gamma': 1, 'kernel': 'linear'}\n",
            "0.949436 (0.032698) with: {'C': 10000, 'gamma': 1, 'kernel': 'poly'}\n",
            "0.637407 (0.008511) with: {'C': 10000, 'gamma': 1, 'kernel': 'rbf'}\n",
            "0.868953 (0.052703) with: {'C': 10000, 'gamma': 1, 'kernel': 'sigmoid'}\n",
            "0.945749 (0.027747) with: {'C': 10000, 'gamma': 0.1, 'kernel': 'linear'}\n",
            "0.949436 (0.032698) with: {'C': 10000, 'gamma': 0.1, 'kernel': 'poly'}\n",
            "0.948003 (0.027977) with: {'C': 10000, 'gamma': 0.1, 'kernel': 'rbf'}\n",
            "0.920322 (0.038267) with: {'C': 10000, 'gamma': 0.1, 'kernel': 'sigmoid'}\n",
            "0.945749 (0.027747) with: {'C': 10000, 'gamma': 0.01, 'kernel': 'linear'}\n",
            "0.952383 (0.032115) with: {'C': 10000, 'gamma': 0.01, 'kernel': 'poly'}\n",
            "0.954589 (0.026560) with: {'C': 10000, 'gamma': 0.01, 'kernel': 'rbf'}\n",
            "0.942818 (0.032053) with: {'C': 10000, 'gamma': 0.01, 'kernel': 'sigmoid'}\n",
            "0.945749 (0.027747) with: {'C': 10000, 'gamma': 0.001, 'kernel': 'linear'}\n",
            "0.870258 (0.046103) with: {'C': 10000, 'gamma': 0.001, 'kernel': 'poly'}\n",
            "0.955346 (0.022965) with: {'C': 10000, 'gamma': 0.001, 'kernel': 'rbf'}\n",
            "0.959034 (0.030409) with: {'C': 10000, 'gamma': 0.001, 'kernel': 'sigmoid'}\n",
            "0.945749 (0.027747) with: {'C': 10000, 'gamma': 0.0001, 'kernel': 'linear'}\n",
            "0.637407 (0.010264) with: {'C': 10000, 'gamma': 0.0001, 'kernel': 'poly'}\n",
            "0.967021 (0.027749) with: {'C': 10000, 'gamma': 0.0001, 'kernel': 'rbf'}\n",
            "0.968502 (0.024567) with: {'C': 10000, 'gamma': 0.0001, 'kernel': 'sigmoid'}\n"
          ]
        }
      ]
    }
  ]
}