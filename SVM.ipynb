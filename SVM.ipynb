{
  "nbformat": 4,
  "nbformat_minor": 0,
  "metadata": {
    "colab": {
      "provenance": []
    },
    "kernelspec": {
      "name": "python3",
      "display_name": "Python 3"
    },
    "language_info": {
      "name": "python"
    }
  },
  "cells": [
    {
      "cell_type": "markdown",
      "source": [
        "Support Vector Machines (SVM)"
      ],
      "metadata": {
        "id": "8cVi-pmFOO2u"
      }
    },
    {
      "cell_type": "code",
      "execution_count": 7,
      "metadata": {
        "id": "LIHSfBBIWpZI"
      },
      "outputs": [],
      "source": [
        "import pandas as pd \n",
        "from sklearn.svm import SVC\n",
        "from sklearn.model_selection import train_test_split,cross_validate\n",
        "from sklearn import preprocessing\n",
        "from sklearn.model_selection import RepeatedStratifiedKFold,cross_val_score\n",
        "from sklearn.model_selection import GridSearchCV\n",
        "from sklearn.metrics import confusion_matrix, precision_score, recall_score, auc,roc_curve,accuracy_score, confusion_matrix, classification_report\n",
        "from sklearn.preprocessing import StandardScaler\n",
        "from tabulate import tabulate\n",
        "from sklearn.preprocessing import LabelEncoder\n",
        "import numpy as np \n",
        "import warnings\n",
        "warnings.filterwarnings('ignore')"
      ]
    },
    {
      "cell_type": "markdown",
      "source": [
        "Importing Data"
      ],
      "metadata": {
        "id": "W5RiSSNDOZIP"
      }
    },
    {
      "cell_type": "markdown",
      "source": [
        " **Dataset 1**"
      ],
      "metadata": {
        "id": "O9w-mOJBXCMK"
      }
    },
    {
      "cell_type": "markdown",
      "source": [
        "Dataset Manipulation"
      ],
      "metadata": {
        "id": "WNCXJuTzWCjG"
      }
    },
    {
      "cell_type": "code",
      "source": [
        "\n",
        "scaler = StandardScaler()\n",
        "df_dataset_1 = pd.read_csv(\"project3_dataset1.txt\",sep=\"\\t\", header=None)\n",
        "X,y = df_dataset_1.iloc[:,:-1].to_numpy(), df_dataset_1.iloc[:,-1].to_numpy()\n",
        "X = scaler.fit_transform(X)\n",
        "X_train, X_test,y_train, y_test = train_test_split(X,y,test_size=0.2,random_state=42)\n",
        "print(\"The shape of the Training features is {} \".format(X_train.shape))\n",
        "print(\"The shape of the Training labels is {} \".format(y_train.shape))\n",
        "print(\"The shape of the Testing features is {} \".format(X_test.shape))\n",
        "print(\"The shape of the Testing labels is {} \".format(y_test.shape))\n"
      ],
      "metadata": {
        "id": "Wv5V9Y8JWvca",
        "colab": {
          "base_uri": "https://localhost:8080/"
        },
        "outputId": "31b90af5-8427-4aa0-f17f-5284eda79d80"
      },
      "execution_count": 8,
      "outputs": [
        {
          "output_type": "stream",
          "name": "stdout",
          "text": [
            "The shape of the Training features is (455, 30) \n",
            "The shape of the Training labels is (455,) \n",
            "The shape of the Testing features is (114, 30) \n",
            "The shape of the Testing labels is (114,) \n"
          ]
        }
      ]
    },
    {
      "cell_type": "markdown",
      "source": [
        "Using default Hyperparameters "
      ],
      "metadata": {
        "id": "xUsQ93oLPaYY"
      }
    },
    {
      "cell_type": "code",
      "source": [
        "#No Hyperparameter tuning\n",
        "def train_default(X_train,y_train,X_test,y_test):\n",
        "  clf_default = SVC()\n",
        "  clf_default.fit(X_train,y_train)\n",
        "  score = clf_default.score(X_test,y_test)\n",
        "  y_hat = clf.predict(X_test)\n",
        "  print(\"The accuracy of the default hyperparameters on the test set is {:.2f}%\".format(score))\n",
        "  print(\"the hyperparamters are : {}\".format(clf_default.get_params()))\n",
        "  accuracy_score(y_test, y_hat)\n",
        "  clf_report = pd.DataFrame(classification_report(y_test, y_hat, output_dict=True))\n",
        "  print(tabulate(clf_report, headers='keys', tablefmt='psql'))\n",
        "\n",
        "train_default(X_train,y_train,X_test,y_test)"
      ],
      "metadata": {
        "colab": {
          "base_uri": "https://localhost:8080/"
        },
        "id": "XUYIrSybXzQ_",
        "outputId": "f63e4b67-99c1-4cd4-b96c-8766b6ae730b"
      },
      "execution_count": 10,
      "outputs": [
        {
          "output_type": "stream",
          "name": "stdout",
          "text": [
            "The accuracy of the default hyperparameters on the test set is 0.97%\n",
            "the hyperparamters are : {'C': 1.0, 'break_ties': False, 'cache_size': 200, 'class_weight': None, 'coef0': 0.0, 'decision_function_shape': 'ovr', 'degree': 3, 'gamma': 'scale', 'kernel': 'rbf', 'max_iter': -1, 'probability': False, 'random_state': None, 'shrinking': True, 'tol': 0.001, 'verbose': False}\n",
            "+-----------+-----------+-----------+------------+-------------+----------------+\n",
            "|           |         0 |         1 |   accuracy |   macro avg |   weighted avg |\n",
            "|-----------+-----------+-----------+------------+-------------+----------------|\n",
            "| precision |  0.971014 |  0.977778 |   0.973684 |    0.974396 |       0.973744 |\n",
            "| recall    |  0.985294 |  0.956522 |   0.973684 |    0.970908 |       0.973684 |\n",
            "| f1-score  |  0.978102 |  0.967033 |   0.973684 |    0.972568 |       0.973636 |\n",
            "| support   | 68        | 46        |   0.973684 |  114        |     114        |\n",
            "+-----------+-----------+-----------+------------+-------------+----------------+\n"
          ]
        }
      ]
    },
    {
      "cell_type": "markdown",
      "source": [
        "Hyperparamter tuning using GridSearchCV"
      ],
      "metadata": {
        "id": "YRkFuJ-wP9DR"
      }
    },
    {
      "cell_type": "markdown",
      "source": [],
      "metadata": {
        "id": "oUA78sl5VisK"
      }
    },
    {
      "cell_type": "code",
      "source": [
        "\n",
        "def search_parameter_space(grid):\n",
        "  clf = SVC()\n",
        "  cv = RepeatedStratifiedKFold(n_splits=10, n_repeats=3, random_state=1)\n",
        "  grid_search = GridSearchCV(estimator=clf, param_grid=grid, n_jobs=-1, cv=cv, scoring='accuracy',error_score=0)\n",
        "  grid_result = grid_search.fit(X_train, y_train)\n",
        "  score = grid_result.score(X_test,y_test) * 100\n",
        "  print(\"The accuracy of the tuned hyperparameters on the test set without cross validation is {:.2f}%\".format(score))\n",
        "  y_hat = grid_result.predict(X_test)\n",
        "  accuracy_score(y_test, y_hat)\n",
        "  clf_report = pd.DataFrame(classification_report(y_test, y_hat, output_dict=True))\n",
        "  print(tabulate(clf_report, headers='keys', tablefmt='psql'))\n",
        "  print(\"\\t\\t\\t\\t Cross Validation\")\n",
        "  print(\"Best: %f using %s\" % (grid_result.best_score_, grid_result.best_params_))\n",
        "  means = grid_result.cv_results_['mean_test_score']\n",
        "  stds = grid_result.cv_results_['std_test_score']\n",
        "  params = grid_result.cv_results_['params']\n",
        "  for mean, stdev, param in zip(means, stds, params):\n",
        "    print(\"%f (%f) with: %r\" % (mean, stdev, param))\n",
        "  print(\"Cross Validation Results for the Best Fit :-\")\n",
        "  cv_results = cross_validate(grid_search, X_train,y_train, cv=cv, scoring=('accuracy', 'precision', 'recall', 'f1','roc_auc'), return_train_score=True)\n",
        "  print('\\n\\nCross-Validation accuracy: %.3f +/- %.3f' %(np.mean(cv_results.get('test_accuracy')), np.std(cv_results.get('test_accuracy'))))\n",
        "  print('\\nList of possible accuracy:', cv_results.get('test_accuracy'))\n",
        "  print('\\nMaximum Accuracy That can be obtained from this model is:', max(cv_results.get('test_accuracy'))*100, '%')\n",
        "  print('\\nMinimum Accuracy:', min(cv_results.get('test_accuracy'))*100, '%')\n",
        "  print('\\nOverall Accuracy:', (np.mean(cv_results.get('test_accuracy'))*100, '%'))\n",
        "  print('\\nStandard Deviation is:', np.std(cv_results.get('test_accuracy')))\n",
        "  #print(classification_report(y_test, y_hat))\n",
        "c_values = [0.1, 1, 10, 100, 1000,10000]\n",
        "gamma = [1, 0.1, 0.01, 0.001, 0.0001]\n",
        "kernel = ['linear', 'poly', 'rbf', 'sigmoid']\n",
        "param_grid = dict(C=c_values,gamma=gamma,kernel=kernel)\n",
        "search_parameter_space(param_grid)"
      ],
      "metadata": {
        "colab": {
          "base_uri": "https://localhost:8080/"
        },
        "id": "dX5mSsNcYQ8E",
        "outputId": "8a581308-8f9e-4b8a-8dbd-0a5927165a1c"
      },
      "execution_count": 12,
      "outputs": [
        {
          "output_type": "stream",
          "name": "stdout",
          "text": [
            "The accuracy of the tuned hyperparameters on the test set without cross validation is 97.37%\n",
            "+-----------+-----------+-----------+------------+-------------+----------------+\n",
            "|           |         0 |         1 |   accuracy |   macro avg |   weighted avg |\n",
            "|-----------+-----------+-----------+------------+-------------+----------------|\n",
            "| precision |  0.971014 |  0.977778 |   0.973684 |    0.974396 |       0.973744 |\n",
            "| recall    |  0.985294 |  0.956522 |   0.973684 |    0.970908 |       0.973684 |\n",
            "| f1-score  |  0.978102 |  0.967033 |   0.973684 |    0.972568 |       0.973636 |\n",
            "| support   | 68        | 46        |   0.973684 |  114        |     114        |\n",
            "+-----------+-----------+-----------+------------+-------------+----------------+\n",
            "\t\t\t\t Cross Validation\n",
            "Best: 0.977279 using {'C': 10, 'gamma': 0.01, 'kernel': 'rbf'}\n",
            "0.972866 (0.025178) with: {'C': 0.1, 'gamma': 1, 'kernel': 'linear'}\n",
            "0.949436 (0.032698) with: {'C': 0.1, 'gamma': 1, 'kernel': 'poly'}\n",
            "0.635217 (0.007898) with: {'C': 0.1, 'gamma': 1, 'kernel': 'rbf'}\n",
            "0.918100 (0.035384) with: {'C': 0.1, 'gamma': 1, 'kernel': 'sigmoid'}\n",
            "0.972866 (0.025178) with: {'C': 0.1, 'gamma': 0.1, 'kernel': 'linear'}\n",
            "0.928889 (0.034976) with: {'C': 0.1, 'gamma': 0.1, 'kernel': 'poly'}\n",
            "0.942818 (0.036422) with: {'C': 0.1, 'gamma': 0.1, 'kernel': 'rbf'}\n",
            "0.948019 (0.029753) with: {'C': 0.1, 'gamma': 0.1, 'kernel': 'sigmoid'}\n",
            "0.972866 (0.025178) with: {'C': 0.1, 'gamma': 0.01, 'kernel': 'linear'}\n",
            "0.674718 (0.028865) with: {'C': 0.1, 'gamma': 0.01, 'kernel': 'poly'}\n",
            "0.947230 (0.033980) with: {'C': 0.1, 'gamma': 0.01, 'kernel': 'rbf'}\n",
            "0.939919 (0.035034) with: {'C': 0.1, 'gamma': 0.01, 'kernel': 'sigmoid'}\n",
            "0.972866 (0.025178) with: {'C': 0.1, 'gamma': 0.001, 'kernel': 'linear'}\n",
            "0.635217 (0.007898) with: {'C': 0.1, 'gamma': 0.001, 'kernel': 'poly'}\n",
            "0.764783 (0.034393) with: {'C': 0.1, 'gamma': 0.001, 'kernel': 'rbf'}\n",
            "0.650628 (0.020645) with: {'C': 0.1, 'gamma': 0.001, 'kernel': 'sigmoid'}\n",
            "0.972866 (0.025178) with: {'C': 0.1, 'gamma': 0.0001, 'kernel': 'linear'}\n",
            "0.635217 (0.007898) with: {'C': 0.1, 'gamma': 0.0001, 'kernel': 'poly'}\n",
            "0.635217 (0.007898) with: {'C': 0.1, 'gamma': 0.0001, 'kernel': 'rbf'}\n",
            "0.635217 (0.007898) with: {'C': 0.1, 'gamma': 0.0001, 'kernel': 'sigmoid'}\n",
            "0.968502 (0.024567) with: {'C': 1, 'gamma': 1, 'kernel': 'linear'}\n",
            "0.949436 (0.032698) with: {'C': 1, 'gamma': 1, 'kernel': 'poly'}\n",
            "0.635217 (0.007898) with: {'C': 1, 'gamma': 1, 'kernel': 'rbf'}\n",
            "0.879968 (0.045740) with: {'C': 1, 'gamma': 1, 'kernel': 'sigmoid'}\n",
            "0.968502 (0.024567) with: {'C': 1, 'gamma': 0.1, 'kernel': 'linear'}\n",
            "0.964106 (0.033783) with: {'C': 1, 'gamma': 0.1, 'kernel': 'poly'}\n",
            "0.962593 (0.030213) with: {'C': 1, 'gamma': 0.1, 'kernel': 'rbf'}\n",
            "0.931916 (0.031635) with: {'C': 1, 'gamma': 0.1, 'kernel': 'sigmoid'}\n",
            "0.968502 (0.024567) with: {'C': 1, 'gamma': 0.01, 'kernel': 'linear'}\n",
            "0.769082 (0.040767) with: {'C': 1, 'gamma': 0.01, 'kernel': 'poly'}\n",
            "0.971369 (0.028032) with: {'C': 1, 'gamma': 0.01, 'kernel': 'rbf'}\n",
            "0.960370 (0.033512) with: {'C': 1, 'gamma': 0.01, 'kernel': 'sigmoid'}\n",
            "0.968502 (0.024567) with: {'C': 1, 'gamma': 0.001, 'kernel': 'linear'}\n",
            "0.635217 (0.007898) with: {'C': 1, 'gamma': 0.001, 'kernel': 'poly'}\n",
            "0.953076 (0.033137) with: {'C': 1, 'gamma': 0.001, 'kernel': 'rbf'}\n",
            "0.942834 (0.034439) with: {'C': 1, 'gamma': 0.001, 'kernel': 'sigmoid'}\n",
            "0.968502 (0.024567) with: {'C': 1, 'gamma': 0.0001, 'kernel': 'linear'}\n",
            "0.635217 (0.007898) with: {'C': 1, 'gamma': 0.0001, 'kernel': 'poly'}\n",
            "0.770644 (0.035999) with: {'C': 1, 'gamma': 0.0001, 'kernel': 'rbf'}\n",
            "0.650628 (0.020645) with: {'C': 1, 'gamma': 0.0001, 'kernel': 'sigmoid'}\n",
            "0.961208 (0.026432) with: {'C': 10, 'gamma': 1, 'kernel': 'linear'}\n",
            "0.949436 (0.032698) with: {'C': 10, 'gamma': 1, 'kernel': 'poly'}\n",
            "0.637407 (0.008511) with: {'C': 10, 'gamma': 1, 'kernel': 'rbf'}\n",
            "0.873333 (0.050331) with: {'C': 10, 'gamma': 1, 'kernel': 'sigmoid'}\n",
            "0.961208 (0.026432) with: {'C': 10, 'gamma': 0.1, 'kernel': 'linear'}\n",
            "0.952383 (0.032115) with: {'C': 10, 'gamma': 0.1, 'kernel': 'poly'}\n",
            "0.949469 (0.028444) with: {'C': 10, 'gamma': 0.1, 'kernel': 'rbf'}\n",
            "0.910789 (0.047075) with: {'C': 10, 'gamma': 0.1, 'kernel': 'sigmoid'}\n",
            "0.961208 (0.026432) with: {'C': 10, 'gamma': 0.01, 'kernel': 'linear'}\n",
            "0.870258 (0.046103) with: {'C': 10, 'gamma': 0.01, 'kernel': 'poly'}\n",
            "0.977279 (0.020808) with: {'C': 10, 'gamma': 0.01, 'kernel': 'rbf'}\n",
            "0.956763 (0.032905) with: {'C': 10, 'gamma': 0.01, 'kernel': 'sigmoid'}\n",
            "0.961208 (0.026432) with: {'C': 10, 'gamma': 0.001, 'kernel': 'linear'}\n",
            "0.637407 (0.010264) with: {'C': 10, 'gamma': 0.001, 'kernel': 'poly'}\n",
            "0.972110 (0.026692) with: {'C': 10, 'gamma': 0.001, 'kernel': 'rbf'}\n",
            "0.966232 (0.032680) with: {'C': 10, 'gamma': 0.001, 'kernel': 'sigmoid'}\n",
            "0.961208 (0.026432) with: {'C': 10, 'gamma': 0.0001, 'kernel': 'linear'}\n",
            "0.635217 (0.007898) with: {'C': 10, 'gamma': 0.0001, 'kernel': 'poly'}\n",
            "0.953076 (0.033137) with: {'C': 10, 'gamma': 0.0001, 'kernel': 'rbf'}\n",
            "0.942834 (0.034439) with: {'C': 10, 'gamma': 0.0001, 'kernel': 'sigmoid'}\n",
            "0.952399 (0.028490) with: {'C': 100, 'gamma': 1, 'kernel': 'linear'}\n",
            "0.949436 (0.032698) with: {'C': 100, 'gamma': 1, 'kernel': 'poly'}\n",
            "0.637407 (0.008511) with: {'C': 100, 'gamma': 1, 'kernel': 'rbf'}\n",
            "0.869678 (0.052557) with: {'C': 100, 'gamma': 1, 'kernel': 'sigmoid'}\n",
            "0.952399 (0.028490) with: {'C': 100, 'gamma': 0.1, 'kernel': 'linear'}\n",
            "0.949436 (0.032698) with: {'C': 100, 'gamma': 0.1, 'kernel': 'poly'}\n",
            "0.948003 (0.027977) with: {'C': 100, 'gamma': 0.1, 'kernel': 'rbf'}\n",
            "0.915217 (0.046859) with: {'C': 100, 'gamma': 0.1, 'kernel': 'sigmoid'}\n",
            "0.952399 (0.028490) with: {'C': 100, 'gamma': 0.01, 'kernel': 'linear'}\n",
            "0.928889 (0.034976) with: {'C': 100, 'gamma': 0.01, 'kernel': 'poly'}\n",
            "0.966264 (0.028329) with: {'C': 100, 'gamma': 0.01, 'kernel': 'rbf'}\n",
            "0.945765 (0.030471) with: {'C': 100, 'gamma': 0.01, 'kernel': 'sigmoid'}\n",
            "0.952399 (0.028490) with: {'C': 100, 'gamma': 0.001, 'kernel': 'linear'}\n",
            "0.674718 (0.028865) with: {'C': 100, 'gamma': 0.001, 'kernel': 'poly'}\n",
            "0.971401 (0.025529) with: {'C': 100, 'gamma': 0.001, 'kernel': 'rbf'}\n",
            "0.972126 (0.026616) with: {'C': 100, 'gamma': 0.001, 'kernel': 'sigmoid'}\n",
            "0.952399 (0.028490) with: {'C': 100, 'gamma': 0.0001, 'kernel': 'linear'}\n",
            "0.635217 (0.007898) with: {'C': 100, 'gamma': 0.0001, 'kernel': 'poly'}\n",
            "0.972834 (0.026554) with: {'C': 100, 'gamma': 0.0001, 'kernel': 'rbf'}\n",
            "0.966232 (0.032680) with: {'C': 100, 'gamma': 0.0001, 'kernel': 'sigmoid'}\n",
            "0.945749 (0.027747) with: {'C': 1000, 'gamma': 1, 'kernel': 'linear'}\n",
            "0.949436 (0.032698) with: {'C': 1000, 'gamma': 1, 'kernel': 'poly'}\n",
            "0.637407 (0.008511) with: {'C': 1000, 'gamma': 1, 'kernel': 'rbf'}\n",
            "0.868953 (0.052703) with: {'C': 1000, 'gamma': 1, 'kernel': 'sigmoid'}\n",
            "0.945749 (0.027747) with: {'C': 1000, 'gamma': 0.1, 'kernel': 'linear'}\n",
            "0.949436 (0.032698) with: {'C': 1000, 'gamma': 0.1, 'kernel': 'poly'}\n",
            "0.948003 (0.027977) with: {'C': 1000, 'gamma': 0.1, 'kernel': 'rbf'}\n",
            "0.914444 (0.041153) with: {'C': 1000, 'gamma': 0.1, 'kernel': 'sigmoid'}\n",
            "0.945749 (0.027747) with: {'C': 1000, 'gamma': 0.01, 'kernel': 'linear'}\n",
            "0.964106 (0.033783) with: {'C': 1000, 'gamma': 0.01, 'kernel': 'poly'}\n",
            "0.954589 (0.026560) with: {'C': 1000, 'gamma': 0.01, 'kernel': 'rbf'}\n",
            "0.942802 (0.032102) with: {'C': 1000, 'gamma': 0.01, 'kernel': 'sigmoid'}\n",
            "0.945749 (0.027747) with: {'C': 1000, 'gamma': 0.001, 'kernel': 'linear'}\n",
            "0.769082 (0.040767) with: {'C': 1000, 'gamma': 0.001, 'kernel': 'poly'}\n",
            "0.964767 (0.026510) with: {'C': 1000, 'gamma': 0.001, 'kernel': 'rbf'}\n",
            "0.969227 (0.023873) with: {'C': 1000, 'gamma': 0.001, 'kernel': 'sigmoid'}\n",
            "0.945749 (0.027747) with: {'C': 1000, 'gamma': 0.0001, 'kernel': 'linear'}\n",
            "0.635217 (0.007898) with: {'C': 1000, 'gamma': 0.0001, 'kernel': 'poly'}\n",
            "0.970660 (0.026235) with: {'C': 1000, 'gamma': 0.0001, 'kernel': 'rbf'}\n",
            "0.972866 (0.025178) with: {'C': 1000, 'gamma': 0.0001, 'kernel': 'sigmoid'}\n",
            "0.945749 (0.027747) with: {'C': 10000, 'gamma': 1, 'kernel': 'linear'}\n",
            "0.949436 (0.032698) with: {'C': 10000, 'gamma': 1, 'kernel': 'poly'}\n",
            "0.637407 (0.008511) with: {'C': 10000, 'gamma': 1, 'kernel': 'rbf'}\n",
            "0.868953 (0.052703) with: {'C': 10000, 'gamma': 1, 'kernel': 'sigmoid'}\n",
            "0.945749 (0.027747) with: {'C': 10000, 'gamma': 0.1, 'kernel': 'linear'}\n",
            "0.949436 (0.032698) with: {'C': 10000, 'gamma': 0.1, 'kernel': 'poly'}\n",
            "0.948003 (0.027977) with: {'C': 10000, 'gamma': 0.1, 'kernel': 'rbf'}\n",
            "0.920322 (0.038267) with: {'C': 10000, 'gamma': 0.1, 'kernel': 'sigmoid'}\n",
            "0.945749 (0.027747) with: {'C': 10000, 'gamma': 0.01, 'kernel': 'linear'}\n",
            "0.952383 (0.032115) with: {'C': 10000, 'gamma': 0.01, 'kernel': 'poly'}\n",
            "0.954589 (0.026560) with: {'C': 10000, 'gamma': 0.01, 'kernel': 'rbf'}\n",
            "0.942818 (0.032053) with: {'C': 10000, 'gamma': 0.01, 'kernel': 'sigmoid'}\n",
            "0.945749 (0.027747) with: {'C': 10000, 'gamma': 0.001, 'kernel': 'linear'}\n",
            "0.870258 (0.046103) with: {'C': 10000, 'gamma': 0.001, 'kernel': 'poly'}\n",
            "0.955346 (0.022965) with: {'C': 10000, 'gamma': 0.001, 'kernel': 'rbf'}\n",
            "0.959034 (0.030409) with: {'C': 10000, 'gamma': 0.001, 'kernel': 'sigmoid'}\n",
            "0.945749 (0.027747) with: {'C': 10000, 'gamma': 0.0001, 'kernel': 'linear'}\n",
            "0.637407 (0.010264) with: {'C': 10000, 'gamma': 0.0001, 'kernel': 'poly'}\n",
            "0.967021 (0.027749) with: {'C': 10000, 'gamma': 0.0001, 'kernel': 'rbf'}\n",
            "0.968502 (0.024567) with: {'C': 10000, 'gamma': 0.0001, 'kernel': 'sigmoid'}\n",
            "Cross Validation Results for the Best Fit :-\n",
            "\n",
            "\n",
            "Cross-Validation accuracy: 0.974 +/- 0.021\n",
            "\n",
            "List of possible accuracy: [1.         0.97826087 0.97826087 0.95652174 0.95652174 0.97777778\n",
            " 0.97777778 0.97777778 0.97777778 0.97777778 1.         0.93478261\n",
            " 0.97826087 0.93478261 0.95652174 1.         1.         0.93333333\n",
            " 0.97777778 1.         1.         1.         0.97826087 0.97826087\n",
            " 1.         0.93333333 0.97777778 0.95555556 0.95555556 0.97777778]\n",
            "\n",
            "Maximum Accuracy That can be obtained from this model is: 100.0 %\n",
            "\n",
            "Minimum Accuracy: 93.33333333333333 %\n",
            "\n",
            "Overall Accuracy: (97.43478260869566, '%')\n",
            "\n",
            "Standard Deviation is: 0.021283597271887143\n"
          ]
        }
      ]
    },
    {
      "cell_type": "markdown",
      "source": [
        "**Dataset-2**"
      ],
      "metadata": {
        "id": "KHoVtUT2VmVG"
      }
    },
    {
      "cell_type": "markdown",
      "source": [
        "Import dataset"
      ],
      "metadata": {
        "id": "Qu9HGrFLVqQR"
      }
    },
    {
      "cell_type": "code",
      "source": [
        "\n",
        "def preprocess(df_dataset_2):\n",
        "  X,y = df_dataset_2.iloc[:,:-1], df_dataset_2.iloc[:,-1]\n",
        "  le = LabelEncoder()\n",
        "  scaler = StandardScaler()\n",
        "  X_without_categorical = X.iloc[:,X.columns!=4]\n",
        "  X_with_categorical = le.fit_transform(X.iloc[:,X.columns==4]).reshape(-1,1)\n",
        "  X = np.append(X_without_categorical,X_with_categorical,1)\n",
        "  X = scaler.fit_transform(X)\n",
        "  return X,y\n",
        "df_dataset_2 = pd.read_csv(\"project3_dataset2.txt\",sep=\"\\t\", header=None)\n",
        "X,y = preprocess(df_dataset_2)\n",
        "X_train, X_test,y_train, y_test = train_test_split(X,y,test_size=0.2,random_state=42)"
      ],
      "metadata": {
        "id": "85DZCA--Vsa1"
      },
      "execution_count": 14,
      "outputs": []
    },
    {
      "cell_type": "markdown",
      "source": [
        "Using Default Hyperparameters"
      ],
      "metadata": {
        "id": "7nv4bKVjWNvP"
      }
    },
    {
      "cell_type": "code",
      "source": [
        "def train_default(X_train,y_train,X_test,y_test):\n",
        "  clf_default = SVC()\n",
        "  clf_default.fit(X_train,y_train)\n",
        "  y_hat = clf_default.predict(X_test)\n",
        "  score = clf_default.score(X_test,y_test) * 100\n",
        "  print(\"The accuracy of the default hyperparameters on the test set is {:.2f}%\".format(score))\n",
        "  print(\"the hyperparamters are : {}\".format(clf_default.get_params()))\n",
        "  accuracy_score(y_test, y_hat)\n",
        "  clf_report = pd.DataFrame(classification_report(y_test, y_hat, output_dict=True))\n",
        "  print(tabulate(clf_report, headers='keys', tablefmt='psql'))\n",
        "\n",
        "train_default(X_train,y_train,X_test,y_test)"
      ],
      "metadata": {
        "colab": {
          "base_uri": "https://localhost:8080/"
        },
        "id": "2JtrTnwVWUOA",
        "outputId": "5854c733-a71f-4fdd-b75b-7cda6d5fcde2"
      },
      "execution_count": 16,
      "outputs": [
        {
          "output_type": "stream",
          "name": "stdout",
          "text": [
            "The accuracy of the default hyperparameters on the test set is 70.97%\n",
            "the hyperparamters are : {'C': 1.0, 'break_ties': False, 'cache_size': 200, 'class_weight': None, 'coef0': 0.0, 'decision_function_shape': 'ovr', 'degree': 3, 'gamma': 'scale', 'kernel': 'rbf', 'max_iter': -1, 'probability': False, 'random_state': None, 'shrinking': True, 'tol': 0.001, 'verbose': False}\n",
            "+-----------+-----------+-----------+------------+-------------+----------------+\n",
            "|           |         0 |         1 |   accuracy |   macro avg |   weighted avg |\n",
            "|-----------+-----------+-----------+------------+-------------+----------------|\n",
            "| precision |  0.80303  |  0.481481 |   0.709677 |    0.642256 |       0.713135 |\n",
            "| recall    |  0.791045 |  0.5      |   0.709677 |    0.645522 |       0.709677 |\n",
            "| f1-score  |  0.796992 |  0.490566 |   0.709677 |    0.643779 |       0.711325 |\n",
            "| support   | 67        | 26        |   0.709677 |   93        |      93        |\n",
            "+-----------+-----------+-----------+------------+-------------+----------------+\n"
          ]
        }
      ]
    },
    {
      "cell_type": "markdown",
      "source": [
        "Hyperparameter tuning using GridSearchCV"
      ],
      "metadata": {
        "id": "iuQRpDJ-WZk0"
      }
    },
    {
      "cell_type": "code",
      "source": [
        "\n",
        "def search_parameter_space(grid):\n",
        "  clf = SVC()\n",
        "  cv = RepeatedStratifiedKFold(n_splits=10, n_repeats=3, random_state=1)\n",
        "  grid_search = GridSearchCV(estimator=clf, param_grid=grid, n_jobs=-1, cv=cv, scoring='accuracy',error_score=0)\n",
        "  grid_result = grid_search.fit(X_train, y_train)\n",
        "  score = grid_result.score(X_test,y_test) * 100\n",
        "  print(\"The accuracy of the tuned hyperparameters on the test set without cross validation is {:.2f}%\".format(score))\n",
        "  y_hat = grid_result.predict(X_test)\n",
        "  accuracy_score(y_test, y_hat)\n",
        "  clf_report = pd.DataFrame(classification_report(y_test, y_hat, output_dict=True))\n",
        "  print(tabulate(clf_report, headers='keys', tablefmt='psql'))\n",
        "  print(\"\\t\\t\\t\\t Cross Validation\")\n",
        "  print(\"Best: %f using %s\" % (grid_result.best_score_, grid_result.best_params_))\n",
        "  means = grid_result.cv_results_['mean_test_score']\n",
        "  stds = grid_result.cv_results_['std_test_score']\n",
        "  params = grid_result.cv_results_['params']\n",
        "  for mean, stdev, param in zip(means, stds, params):\n",
        "    print(\"%f (%f) with: %r\" % (mean, stdev, param))\n",
        "  print(\"Cross Validation Results for the Best Fit :-\")\n",
        "  cv_results = cross_validate(grid_search, X_train,y_train, cv=cv, scoring=('accuracy', 'precision', 'recall', 'f1','roc_auc'), return_train_score=True)\n",
        "  print('\\n\\nCross-Validation accuracy: %.3f +/- %.3f' %(np.mean(cv_results.get('test_accuracy')), np.std(cv_results.get('test_accuracy'))))\n",
        "  print('\\nList of possible accuracy:', cv_results.get('test_accuracy'))\n",
        "  print('\\nMaximum Accuracy That can be obtained from this model is:', max(cv_results.get('test_accuracy'))*100, '%')\n",
        "  print('\\nMinimum Accuracy:', min(cv_results.get('test_accuracy'))*100, '%')\n",
        "  print('\\nOverall Accuracy:', (np.mean(cv_results.get('test_accuracy'))*100, '%'))\n",
        "  print('\\nStandard Deviation is:', np.std(cv_results.get('test_accuracy')))\n",
        "  #print(classification_report(y_test, y_hat))\n",
        "c_values = [0.1, 1, 10, 100, 1000,10000]\n",
        "gamma = [1, 0.1, 0.01, 0.001, 0.0001]\n",
        "kernel = ['linear', 'poly', 'rbf', 'sigmoid']\n",
        "param_grid = dict(C=c_values,gamma=gamma,kernel=kernel)\n",
        "search_parameter_space(param_grid)"
      ],
      "metadata": {
        "id": "wO3wUqPoWdeZ"
      },
      "execution_count": null,
      "outputs": []
    }
  ]
}