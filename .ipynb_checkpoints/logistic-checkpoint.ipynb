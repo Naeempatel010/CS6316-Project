{
 "cells": [
  {
   "cell_type": "markdown",
   "metadata": {
    "id": "tadosi_EVt3D"
   },
   "source": [
    "Implementation of Logistic Regression and Hyperparameter Tuning"
   ]
  },
  {
   "cell_type": "code",
   "execution_count": 3,
   "metadata": {
    "id": "2GCTo6P1eIcn"
   },
   "outputs": [],
   "source": [
    "import pandas as pd \n",
    "from sklearn.linear_model import LogisticRegression\n",
    "from sklearn.model_selection import train_test_split,cross_validate\n",
    "from sklearn import preprocessing\n",
    "from sklearn.model_selection import RepeatedStratifiedKFold,cross_val_score\n",
    "from sklearn.model_selection import GridSearchCV\n",
    "from sklearn.metrics import confusion_matrix, precision_score, recall_score, auc,roc_curve,accuracy_score, confusion_matrix, classification_report\n",
    "from sklearn.preprocessing import StandardScaler\n",
    "from tabulate import tabulate\n",
    "import numpy as np \n",
    "import warnings\n",
    "warnings.filterwarnings('ignore')"
   ]
  },
  {
   "cell_type": "markdown",
   "metadata": {
    "id": "KX7q2CYYVq5H"
   },
   "source": [
    "Importing Dataset"
   ]
  },
  {
   "cell_type": "code",
   "execution_count": 4,
   "metadata": {
    "id": "R2-JgmNMfRwQ"
   },
   "outputs": [
    {
     "ename": "FileNotFoundError",
     "evalue": "[Errno 2] No such file or directory: 'project3_dataset1.txt'",
     "output_type": "error",
     "traceback": [
      "\u001b[0;31m---------------------------------------------------------------------------\u001b[0m",
      "\u001b[0;31mFileNotFoundError\u001b[0m                         Traceback (most recent call last)",
      "Cell \u001b[0;32mIn[4], line 1\u001b[0m\n\u001b[0;32m----> 1\u001b[0m df_dataset_1 \u001b[38;5;241m=\u001b[39m \u001b[43mpd\u001b[49m\u001b[38;5;241;43m.\u001b[39;49m\u001b[43mread_csv\u001b[49m\u001b[43m(\u001b[49m\u001b[38;5;124;43m\"\u001b[39;49m\u001b[38;5;124;43mproject3_dataset1.txt\u001b[39;49m\u001b[38;5;124;43m\"\u001b[39;49m\u001b[43m,\u001b[49m\u001b[43msep\u001b[49m\u001b[38;5;241;43m=\u001b[39;49m\u001b[38;5;124;43m\"\u001b[39;49m\u001b[38;5;130;43;01m\\t\u001b[39;49;00m\u001b[38;5;124;43m\"\u001b[39;49m\u001b[43m,\u001b[49m\u001b[43m \u001b[49m\u001b[43mheader\u001b[49m\u001b[38;5;241;43m=\u001b[39;49m\u001b[38;5;28;43;01mNone\u001b[39;49;00m\u001b[43m)\u001b[49m\n\u001b[1;32m      2\u001b[0m df_dataset_2 \u001b[38;5;241m=\u001b[39m pd\u001b[38;5;241m.\u001b[39mread_csv(\u001b[38;5;124m\"\u001b[39m\u001b[38;5;124mproject3_dataset2.txt\u001b[39m\u001b[38;5;124m\"\u001b[39m,sep\u001b[38;5;241m=\u001b[39m\u001b[38;5;124m\"\u001b[39m\u001b[38;5;130;01m\\t\u001b[39;00m\u001b[38;5;124m\"\u001b[39m, header\u001b[38;5;241m=\u001b[39m\u001b[38;5;28;01mNone\u001b[39;00m)\n",
      "File \u001b[0;32m~/Documents/ML/env/lib/python3.9/site-packages/pandas/util/_decorators.py:211\u001b[0m, in \u001b[0;36mdeprecate_kwarg.<locals>._deprecate_kwarg.<locals>.wrapper\u001b[0;34m(*args, **kwargs)\u001b[0m\n\u001b[1;32m    209\u001b[0m     \u001b[38;5;28;01melse\u001b[39;00m:\n\u001b[1;32m    210\u001b[0m         kwargs[new_arg_name] \u001b[38;5;241m=\u001b[39m new_arg_value\n\u001b[0;32m--> 211\u001b[0m \u001b[38;5;28;01mreturn\u001b[39;00m \u001b[43mfunc\u001b[49m\u001b[43m(\u001b[49m\u001b[38;5;241;43m*\u001b[39;49m\u001b[43margs\u001b[49m\u001b[43m,\u001b[49m\u001b[43m \u001b[49m\u001b[38;5;241;43m*\u001b[39;49m\u001b[38;5;241;43m*\u001b[39;49m\u001b[43mkwargs\u001b[49m\u001b[43m)\u001b[49m\n",
      "File \u001b[0;32m~/Documents/ML/env/lib/python3.9/site-packages/pandas/util/_decorators.py:331\u001b[0m, in \u001b[0;36mdeprecate_nonkeyword_arguments.<locals>.decorate.<locals>.wrapper\u001b[0;34m(*args, **kwargs)\u001b[0m\n\u001b[1;32m    325\u001b[0m \u001b[38;5;28;01mif\u001b[39;00m \u001b[38;5;28mlen\u001b[39m(args) \u001b[38;5;241m>\u001b[39m num_allow_args:\n\u001b[1;32m    326\u001b[0m     warnings\u001b[38;5;241m.\u001b[39mwarn(\n\u001b[1;32m    327\u001b[0m         msg\u001b[38;5;241m.\u001b[39mformat(arguments\u001b[38;5;241m=\u001b[39m_format_argument_list(allow_args)),\n\u001b[1;32m    328\u001b[0m         \u001b[38;5;167;01mFutureWarning\u001b[39;00m,\n\u001b[1;32m    329\u001b[0m         stacklevel\u001b[38;5;241m=\u001b[39mfind_stack_level(),\n\u001b[1;32m    330\u001b[0m     )\n\u001b[0;32m--> 331\u001b[0m \u001b[38;5;28;01mreturn\u001b[39;00m \u001b[43mfunc\u001b[49m\u001b[43m(\u001b[49m\u001b[38;5;241;43m*\u001b[39;49m\u001b[43margs\u001b[49m\u001b[43m,\u001b[49m\u001b[43m \u001b[49m\u001b[38;5;241;43m*\u001b[39;49m\u001b[38;5;241;43m*\u001b[39;49m\u001b[43mkwargs\u001b[49m\u001b[43m)\u001b[49m\n",
      "File \u001b[0;32m~/Documents/ML/env/lib/python3.9/site-packages/pandas/io/parsers/readers.py:950\u001b[0m, in \u001b[0;36mread_csv\u001b[0;34m(filepath_or_buffer, sep, delimiter, header, names, index_col, usecols, squeeze, prefix, mangle_dupe_cols, dtype, engine, converters, true_values, false_values, skipinitialspace, skiprows, skipfooter, nrows, na_values, keep_default_na, na_filter, verbose, skip_blank_lines, parse_dates, infer_datetime_format, keep_date_col, date_parser, dayfirst, cache_dates, iterator, chunksize, compression, thousands, decimal, lineterminator, quotechar, quoting, doublequote, escapechar, comment, encoding, encoding_errors, dialect, error_bad_lines, warn_bad_lines, on_bad_lines, delim_whitespace, low_memory, memory_map, float_precision, storage_options)\u001b[0m\n\u001b[1;32m    935\u001b[0m kwds_defaults \u001b[38;5;241m=\u001b[39m _refine_defaults_read(\n\u001b[1;32m    936\u001b[0m     dialect,\n\u001b[1;32m    937\u001b[0m     delimiter,\n\u001b[0;32m   (...)\u001b[0m\n\u001b[1;32m    946\u001b[0m     defaults\u001b[38;5;241m=\u001b[39m{\u001b[38;5;124m\"\u001b[39m\u001b[38;5;124mdelimiter\u001b[39m\u001b[38;5;124m\"\u001b[39m: \u001b[38;5;124m\"\u001b[39m\u001b[38;5;124m,\u001b[39m\u001b[38;5;124m\"\u001b[39m},\n\u001b[1;32m    947\u001b[0m )\n\u001b[1;32m    948\u001b[0m kwds\u001b[38;5;241m.\u001b[39mupdate(kwds_defaults)\n\u001b[0;32m--> 950\u001b[0m \u001b[38;5;28;01mreturn\u001b[39;00m \u001b[43m_read\u001b[49m\u001b[43m(\u001b[49m\u001b[43mfilepath_or_buffer\u001b[49m\u001b[43m,\u001b[49m\u001b[43m \u001b[49m\u001b[43mkwds\u001b[49m\u001b[43m)\u001b[49m\n",
      "File \u001b[0;32m~/Documents/ML/env/lib/python3.9/site-packages/pandas/io/parsers/readers.py:605\u001b[0m, in \u001b[0;36m_read\u001b[0;34m(filepath_or_buffer, kwds)\u001b[0m\n\u001b[1;32m    602\u001b[0m _validate_names(kwds\u001b[38;5;241m.\u001b[39mget(\u001b[38;5;124m\"\u001b[39m\u001b[38;5;124mnames\u001b[39m\u001b[38;5;124m\"\u001b[39m, \u001b[38;5;28;01mNone\u001b[39;00m))\n\u001b[1;32m    604\u001b[0m \u001b[38;5;66;03m# Create the parser.\u001b[39;00m\n\u001b[0;32m--> 605\u001b[0m parser \u001b[38;5;241m=\u001b[39m \u001b[43mTextFileReader\u001b[49m\u001b[43m(\u001b[49m\u001b[43mfilepath_or_buffer\u001b[49m\u001b[43m,\u001b[49m\u001b[43m \u001b[49m\u001b[38;5;241;43m*\u001b[39;49m\u001b[38;5;241;43m*\u001b[39;49m\u001b[43mkwds\u001b[49m\u001b[43m)\u001b[49m\n\u001b[1;32m    607\u001b[0m \u001b[38;5;28;01mif\u001b[39;00m chunksize \u001b[38;5;129;01mor\u001b[39;00m iterator:\n\u001b[1;32m    608\u001b[0m     \u001b[38;5;28;01mreturn\u001b[39;00m parser\n",
      "File \u001b[0;32m~/Documents/ML/env/lib/python3.9/site-packages/pandas/io/parsers/readers.py:1442\u001b[0m, in \u001b[0;36mTextFileReader.__init__\u001b[0;34m(self, f, engine, **kwds)\u001b[0m\n\u001b[1;32m   1439\u001b[0m     \u001b[38;5;28mself\u001b[39m\u001b[38;5;241m.\u001b[39moptions[\u001b[38;5;124m\"\u001b[39m\u001b[38;5;124mhas_index_names\u001b[39m\u001b[38;5;124m\"\u001b[39m] \u001b[38;5;241m=\u001b[39m kwds[\u001b[38;5;124m\"\u001b[39m\u001b[38;5;124mhas_index_names\u001b[39m\u001b[38;5;124m\"\u001b[39m]\n\u001b[1;32m   1441\u001b[0m \u001b[38;5;28mself\u001b[39m\u001b[38;5;241m.\u001b[39mhandles: IOHandles \u001b[38;5;241m|\u001b[39m \u001b[38;5;28;01mNone\u001b[39;00m \u001b[38;5;241m=\u001b[39m \u001b[38;5;28;01mNone\u001b[39;00m\n\u001b[0;32m-> 1442\u001b[0m \u001b[38;5;28mself\u001b[39m\u001b[38;5;241m.\u001b[39m_engine \u001b[38;5;241m=\u001b[39m \u001b[38;5;28;43mself\u001b[39;49m\u001b[38;5;241;43m.\u001b[39;49m\u001b[43m_make_engine\u001b[49m\u001b[43m(\u001b[49m\u001b[43mf\u001b[49m\u001b[43m,\u001b[49m\u001b[43m \u001b[49m\u001b[38;5;28;43mself\u001b[39;49m\u001b[38;5;241;43m.\u001b[39;49m\u001b[43mengine\u001b[49m\u001b[43m)\u001b[49m\n",
      "File \u001b[0;32m~/Documents/ML/env/lib/python3.9/site-packages/pandas/io/parsers/readers.py:1735\u001b[0m, in \u001b[0;36mTextFileReader._make_engine\u001b[0;34m(self, f, engine)\u001b[0m\n\u001b[1;32m   1733\u001b[0m     \u001b[38;5;28;01mif\u001b[39;00m \u001b[38;5;124m\"\u001b[39m\u001b[38;5;124mb\u001b[39m\u001b[38;5;124m\"\u001b[39m \u001b[38;5;129;01mnot\u001b[39;00m \u001b[38;5;129;01min\u001b[39;00m mode:\n\u001b[1;32m   1734\u001b[0m         mode \u001b[38;5;241m+\u001b[39m\u001b[38;5;241m=\u001b[39m \u001b[38;5;124m\"\u001b[39m\u001b[38;5;124mb\u001b[39m\u001b[38;5;124m\"\u001b[39m\n\u001b[0;32m-> 1735\u001b[0m \u001b[38;5;28mself\u001b[39m\u001b[38;5;241m.\u001b[39mhandles \u001b[38;5;241m=\u001b[39m \u001b[43mget_handle\u001b[49m\u001b[43m(\u001b[49m\n\u001b[1;32m   1736\u001b[0m \u001b[43m    \u001b[49m\u001b[43mf\u001b[49m\u001b[43m,\u001b[49m\n\u001b[1;32m   1737\u001b[0m \u001b[43m    \u001b[49m\u001b[43mmode\u001b[49m\u001b[43m,\u001b[49m\n\u001b[1;32m   1738\u001b[0m \u001b[43m    \u001b[49m\u001b[43mencoding\u001b[49m\u001b[38;5;241;43m=\u001b[39;49m\u001b[38;5;28;43mself\u001b[39;49m\u001b[38;5;241;43m.\u001b[39;49m\u001b[43moptions\u001b[49m\u001b[38;5;241;43m.\u001b[39;49m\u001b[43mget\u001b[49m\u001b[43m(\u001b[49m\u001b[38;5;124;43m\"\u001b[39;49m\u001b[38;5;124;43mencoding\u001b[39;49m\u001b[38;5;124;43m\"\u001b[39;49m\u001b[43m,\u001b[49m\u001b[43m \u001b[49m\u001b[38;5;28;43;01mNone\u001b[39;49;00m\u001b[43m)\u001b[49m\u001b[43m,\u001b[49m\n\u001b[1;32m   1739\u001b[0m \u001b[43m    \u001b[49m\u001b[43mcompression\u001b[49m\u001b[38;5;241;43m=\u001b[39;49m\u001b[38;5;28;43mself\u001b[39;49m\u001b[38;5;241;43m.\u001b[39;49m\u001b[43moptions\u001b[49m\u001b[38;5;241;43m.\u001b[39;49m\u001b[43mget\u001b[49m\u001b[43m(\u001b[49m\u001b[38;5;124;43m\"\u001b[39;49m\u001b[38;5;124;43mcompression\u001b[39;49m\u001b[38;5;124;43m\"\u001b[39;49m\u001b[43m,\u001b[49m\u001b[43m \u001b[49m\u001b[38;5;28;43;01mNone\u001b[39;49;00m\u001b[43m)\u001b[49m\u001b[43m,\u001b[49m\n\u001b[1;32m   1740\u001b[0m \u001b[43m    \u001b[49m\u001b[43mmemory_map\u001b[49m\u001b[38;5;241;43m=\u001b[39;49m\u001b[38;5;28;43mself\u001b[39;49m\u001b[38;5;241;43m.\u001b[39;49m\u001b[43moptions\u001b[49m\u001b[38;5;241;43m.\u001b[39;49m\u001b[43mget\u001b[49m\u001b[43m(\u001b[49m\u001b[38;5;124;43m\"\u001b[39;49m\u001b[38;5;124;43mmemory_map\u001b[39;49m\u001b[38;5;124;43m\"\u001b[39;49m\u001b[43m,\u001b[49m\u001b[43m \u001b[49m\u001b[38;5;28;43;01mFalse\u001b[39;49;00m\u001b[43m)\u001b[49m\u001b[43m,\u001b[49m\n\u001b[1;32m   1741\u001b[0m \u001b[43m    \u001b[49m\u001b[43mis_text\u001b[49m\u001b[38;5;241;43m=\u001b[39;49m\u001b[43mis_text\u001b[49m\u001b[43m,\u001b[49m\n\u001b[1;32m   1742\u001b[0m \u001b[43m    \u001b[49m\u001b[43merrors\u001b[49m\u001b[38;5;241;43m=\u001b[39;49m\u001b[38;5;28;43mself\u001b[39;49m\u001b[38;5;241;43m.\u001b[39;49m\u001b[43moptions\u001b[49m\u001b[38;5;241;43m.\u001b[39;49m\u001b[43mget\u001b[49m\u001b[43m(\u001b[49m\u001b[38;5;124;43m\"\u001b[39;49m\u001b[38;5;124;43mencoding_errors\u001b[39;49m\u001b[38;5;124;43m\"\u001b[39;49m\u001b[43m,\u001b[49m\u001b[43m \u001b[49m\u001b[38;5;124;43m\"\u001b[39;49m\u001b[38;5;124;43mstrict\u001b[39;49m\u001b[38;5;124;43m\"\u001b[39;49m\u001b[43m)\u001b[49m\u001b[43m,\u001b[49m\n\u001b[1;32m   1743\u001b[0m \u001b[43m    \u001b[49m\u001b[43mstorage_options\u001b[49m\u001b[38;5;241;43m=\u001b[39;49m\u001b[38;5;28;43mself\u001b[39;49m\u001b[38;5;241;43m.\u001b[39;49m\u001b[43moptions\u001b[49m\u001b[38;5;241;43m.\u001b[39;49m\u001b[43mget\u001b[49m\u001b[43m(\u001b[49m\u001b[38;5;124;43m\"\u001b[39;49m\u001b[38;5;124;43mstorage_options\u001b[39;49m\u001b[38;5;124;43m\"\u001b[39;49m\u001b[43m,\u001b[49m\u001b[43m \u001b[49m\u001b[38;5;28;43;01mNone\u001b[39;49;00m\u001b[43m)\u001b[49m\u001b[43m,\u001b[49m\n\u001b[1;32m   1744\u001b[0m \u001b[43m\u001b[49m\u001b[43m)\u001b[49m\n\u001b[1;32m   1745\u001b[0m \u001b[38;5;28;01massert\u001b[39;00m \u001b[38;5;28mself\u001b[39m\u001b[38;5;241m.\u001b[39mhandles \u001b[38;5;129;01mis\u001b[39;00m \u001b[38;5;129;01mnot\u001b[39;00m \u001b[38;5;28;01mNone\u001b[39;00m\n\u001b[1;32m   1746\u001b[0m f \u001b[38;5;241m=\u001b[39m \u001b[38;5;28mself\u001b[39m\u001b[38;5;241m.\u001b[39mhandles\u001b[38;5;241m.\u001b[39mhandle\n",
      "File \u001b[0;32m~/Documents/ML/env/lib/python3.9/site-packages/pandas/io/common.py:856\u001b[0m, in \u001b[0;36mget_handle\u001b[0;34m(path_or_buf, mode, encoding, compression, memory_map, is_text, errors, storage_options)\u001b[0m\n\u001b[1;32m    851\u001b[0m \u001b[38;5;28;01melif\u001b[39;00m \u001b[38;5;28misinstance\u001b[39m(handle, \u001b[38;5;28mstr\u001b[39m):\n\u001b[1;32m    852\u001b[0m     \u001b[38;5;66;03m# Check whether the filename is to be opened in binary mode.\u001b[39;00m\n\u001b[1;32m    853\u001b[0m     \u001b[38;5;66;03m# Binary mode does not support 'encoding' and 'newline'.\u001b[39;00m\n\u001b[1;32m    854\u001b[0m     \u001b[38;5;28;01mif\u001b[39;00m ioargs\u001b[38;5;241m.\u001b[39mencoding \u001b[38;5;129;01mand\u001b[39;00m \u001b[38;5;124m\"\u001b[39m\u001b[38;5;124mb\u001b[39m\u001b[38;5;124m\"\u001b[39m \u001b[38;5;129;01mnot\u001b[39;00m \u001b[38;5;129;01min\u001b[39;00m ioargs\u001b[38;5;241m.\u001b[39mmode:\n\u001b[1;32m    855\u001b[0m         \u001b[38;5;66;03m# Encoding\u001b[39;00m\n\u001b[0;32m--> 856\u001b[0m         handle \u001b[38;5;241m=\u001b[39m \u001b[38;5;28;43mopen\u001b[39;49m\u001b[43m(\u001b[49m\n\u001b[1;32m    857\u001b[0m \u001b[43m            \u001b[49m\u001b[43mhandle\u001b[49m\u001b[43m,\u001b[49m\n\u001b[1;32m    858\u001b[0m \u001b[43m            \u001b[49m\u001b[43mioargs\u001b[49m\u001b[38;5;241;43m.\u001b[39;49m\u001b[43mmode\u001b[49m\u001b[43m,\u001b[49m\n\u001b[1;32m    859\u001b[0m \u001b[43m            \u001b[49m\u001b[43mencoding\u001b[49m\u001b[38;5;241;43m=\u001b[39;49m\u001b[43mioargs\u001b[49m\u001b[38;5;241;43m.\u001b[39;49m\u001b[43mencoding\u001b[49m\u001b[43m,\u001b[49m\n\u001b[1;32m    860\u001b[0m \u001b[43m            \u001b[49m\u001b[43merrors\u001b[49m\u001b[38;5;241;43m=\u001b[39;49m\u001b[43merrors\u001b[49m\u001b[43m,\u001b[49m\n\u001b[1;32m    861\u001b[0m \u001b[43m            \u001b[49m\u001b[43mnewline\u001b[49m\u001b[38;5;241;43m=\u001b[39;49m\u001b[38;5;124;43m\"\u001b[39;49m\u001b[38;5;124;43m\"\u001b[39;49m\u001b[43m,\u001b[49m\n\u001b[1;32m    862\u001b[0m \u001b[43m        \u001b[49m\u001b[43m)\u001b[49m\n\u001b[1;32m    863\u001b[0m     \u001b[38;5;28;01melse\u001b[39;00m:\n\u001b[1;32m    864\u001b[0m         \u001b[38;5;66;03m# Binary mode\u001b[39;00m\n\u001b[1;32m    865\u001b[0m         handle \u001b[38;5;241m=\u001b[39m \u001b[38;5;28mopen\u001b[39m(handle, ioargs\u001b[38;5;241m.\u001b[39mmode)\n",
      "\u001b[0;31mFileNotFoundError\u001b[0m: [Errno 2] No such file or directory: 'project3_dataset1.txt'"
     ]
    }
   ],
   "source": [
    "df_dataset_1 = pd.read_csv(\"project3_dataset1.txt\",sep=\"\\t\", header=None)\n",
    "df_dataset_2 = pd.read_csv(\"project3_dataset2.txt\",sep=\"\\t\", header=None)"
   ]
  },
  {
   "cell_type": "markdown",
   "metadata": {
    "id": "O9w-mOJBXCMK"
   },
   "source": [
    " **Dataset 1**"
   ]
  },
  {
   "cell_type": "markdown",
   "metadata": {
    "id": "WNCXJuTzWCjG"
   },
   "source": [
    "Dataset Manipulation"
   ]
  },
  {
   "cell_type": "code",
   "execution_count": 60,
   "metadata": {
    "colab": {
     "base_uri": "https://localhost:8080/"
    },
    "id": "EpvYidecfU5D",
    "outputId": "3de1543b-b9a1-4850-c8d0-e87ce3369c7f"
   },
   "outputs": [
    {
     "name": "stdout",
     "output_type": "stream",
     "text": [
      "The shape of the Training features is (455, 30) \n",
      "The shape of the Training labels is (455,) \n",
      "The shape of the Testing features is (114, 30) \n",
      "The shape of the Testing labels is (114,) \n"
     ]
    }
   ],
   "source": [
    "X,y = df_dataset_1.iloc[:,:-1], df_dataset_1.iloc[:,-1]\n",
    "X_train, X_test,y_train, y_test = train_test_split(X,y,test_size=0.2,random_state=42)\n",
    "print(\"The shape of the Training features is {} \".format(X_train.shape))\n",
    "print(\"The shape of the Training labels is {} \".format(y_train.shape))\n",
    "print(\"The shape of the Testing features is {} \".format(X_test.shape))\n",
    "print(\"The shape of the Testing labels is {} \".format(y_test.shape))\n"
   ]
  },
  {
   "cell_type": "markdown",
   "metadata": {
    "id": "lWlmNSNnY_pd"
   },
   "source": [
    "Using default Hyperparameters with no feature scaling"
   ]
  },
  {
   "cell_type": "code",
   "execution_count": 62,
   "metadata": {
    "colab": {
     "base_uri": "https://localhost:8080/"
    },
    "id": "NECpqjR0Wzy2",
    "outputId": "a6da9674-950c-4164-85cd-8ce6cdb12b84"
   },
   "outputs": [
    {
     "name": "stdout",
     "output_type": "stream",
     "text": [
      "The accuracy of the default hyperparameters on the test set is 97.37%\n",
      "the hyperparamters are : {'C': 1.0, 'class_weight': None, 'dual': False, 'fit_intercept': True, 'intercept_scaling': 1, 'l1_ratio': None, 'max_iter': 100, 'multi_class': 'auto', 'n_jobs': None, 'penalty': 'l2', 'random_state': None, 'solver': 'lbfgs', 'tol': 0.0001, 'verbose': 0, 'warm_start': False}\n",
      "+-----------+-----------+-----------+------------+-------------+----------------+\n",
      "|           |         0 |         1 |   accuracy |   macro avg |   weighted avg |\n",
      "|-----------+-----------+-----------+------------+-------------+----------------|\n",
      "| precision |  0.957746 |  1        |   0.973684 |    0.978873 |       0.974796 |\n",
      "| recall    |  1        |  0.934783 |   0.973684 |    0.967391 |       0.973684 |\n",
      "| f1-score  |  0.978417 |  0.966292 |   0.973684 |    0.972355 |       0.973525 |\n",
      "| support   | 68        | 46        |   0.973684 |  114        |     114        |\n",
      "+-----------+-----------+-----------+------------+-------------+----------------+\n"
     ]
    }
   ],
   "source": [
    "def train_default(X_train,y_train,X_test,y_test):\n",
    "  clf_default = LogisticRegression()\n",
    "  clf_default.fit(X_train,y_train)\n",
    "  y_hat = clf_default.predict(X_test)\n",
    "  score = clf_default.score(X_test,y_test) * 100\n",
    "  print(\"The accuracy of the default hyperparameters on the test set is {:.2f}%\".format(score))\n",
    "  print(\"the hyperparamters are : {}\".format(clf_default.get_params()))\n",
    "  accuracy_score(y_test, y_hat)\n",
    "  clf_report = pd.DataFrame(classification_report(y_test, y_hat, output_dict=True))\n",
    "  print(tabulate(clf_report, headers='keys', tablefmt='psql'))\n",
    "\n",
    "train_default(X_train,y_train,X_test,y_test)"
   ]
  },
  {
   "cell_type": "markdown",
   "metadata": {
    "id": "bu9_HGY5Y0j3"
   },
   "source": [
    "Using Default Hyperparameters with feature scaling"
   ]
  },
  {
   "cell_type": "code",
   "execution_count": 63,
   "metadata": {
    "colab": {
     "base_uri": "https://localhost:8080/"
    },
    "id": "z0xV_kfPYxbO",
    "outputId": "44b21aca-b0a9-4045-af29-570d5928e319"
   },
   "outputs": [
    {
     "name": "stdout",
     "output_type": "stream",
     "text": [
      "The accuracy of the default hyperparameters on the test set is 99.12%\n",
      "the hyperparamters are : {'C': 1.0, 'class_weight': None, 'dual': False, 'fit_intercept': True, 'intercept_scaling': 1, 'l1_ratio': None, 'max_iter': 100, 'multi_class': 'auto', 'n_jobs': None, 'penalty': 'l2', 'random_state': None, 'solver': 'lbfgs', 'tol': 0.0001, 'verbose': 0, 'warm_start': False}\n",
      "+-----------+-----------+-----------+------------+-------------+----------------+\n",
      "|           |         0 |         1 |   accuracy |   macro avg |   weighted avg |\n",
      "|-----------+-----------+-----------+------------+-------------+----------------|\n",
      "| precision |  1        |  0.978723 |   0.991228 |    0.989362 |       0.991415 |\n",
      "| recall    |  0.985294 |  1        |   0.991228 |    0.992647 |       0.991228 |\n",
      "| f1-score  |  0.992593 |  0.989247 |   0.991228 |    0.99092  |       0.991243 |\n",
      "| support   | 68        | 46        |   0.991228 |  114        |     114        |\n",
      "+-----------+-----------+-----------+------------+-------------+----------------+\n"
     ]
    }
   ],
   "source": [
    "scaler = StandardScaler()\n",
    "X_train = scaler.fit_transform(X_train)\n",
    "X_test = scaler.fit_transform(X_test)\n",
    "train_default(X_train,y_train,X_test,y_test)"
   ]
  },
  {
   "cell_type": "markdown",
   "metadata": {
    "id": "RcgWAmbIYS7w"
   },
   "source": [
    "Hyperparamter tuning using GridSearchCV"
   ]
  },
  {
   "cell_type": "code",
   "execution_count": 67,
   "metadata": {
    "colab": {
     "base_uri": "https://localhost:8080/"
    },
    "id": "PH3Sg-qLggbd",
    "outputId": "28868ed6-72de-4fb1-febf-f76fdf6e05c5"
   },
   "outputs": [
    {
     "name": "stdout",
     "output_type": "stream",
     "text": [
      "The accuracy of the tuned hyperparameters on the test set without cross validation is 99.12%\n",
      "+-----------+-----------+-----------+------------+-------------+----------------+\n",
      "|           |         0 |         1 |   accuracy |   macro avg |   weighted avg |\n",
      "|-----------+-----------+-----------+------------+-------------+----------------|\n",
      "| precision |  1        |  0.978723 |   0.991228 |    0.989362 |       0.991415 |\n",
      "| recall    |  0.985294 |  1        |   0.991228 |    0.992647 |       0.991228 |\n",
      "| f1-score  |  0.992593 |  0.989247 |   0.991228 |    0.99092  |       0.991243 |\n",
      "| support   | 68        | 46        |   0.991228 |  114        |     114        |\n",
      "+-----------+-----------+-----------+------------+-------------+----------------+\n",
      "\t\t\t\t Cross Validation\n",
      "Best: 0.978019 using {'C': 1, 'penalty': 'l2', 'solver': 'liblinear'}\n",
      "0.953060 (0.033640) with: {'C': 0.01, 'penalty': 'l2', 'solver': 'lbfgs'}\n",
      "0.969936 (0.024482) with: {'C': 0.01, 'penalty': 'l2', 'solver': 'liblinear'}\n",
      "0.976554 (0.021137) with: {'C': 1, 'penalty': 'l2', 'solver': 'lbfgs'}\n",
      "0.978019 (0.021205) with: {'C': 1, 'penalty': 'l2', 'solver': 'liblinear'}\n",
      "0.975105 (0.020205) with: {'C': 1.2, 'penalty': 'l2', 'solver': 'lbfgs'}\n",
      "0.975845 (0.020691) with: {'C': 1.2, 'penalty': 'l2', 'solver': 'liblinear'}\n",
      "0.975845 (0.020691) with: {'C': 1.3, 'penalty': 'l2', 'solver': 'lbfgs'}\n",
      "0.975845 (0.020691) with: {'C': 1.3, 'penalty': 'l2', 'solver': 'liblinear'}\n",
      "0.964863 (0.028710) with: {'C': 10, 'penalty': 'l2', 'solver': 'lbfgs'}\n",
      "0.964863 (0.028710) with: {'C': 10, 'penalty': 'l2', 'solver': 'liblinear'}\n",
      "0.958277 (0.030203) with: {'C': 100, 'penalty': 'l2', 'solver': 'lbfgs'}\n",
      "0.958277 (0.030203) with: {'C': 100, 'penalty': 'l2', 'solver': 'liblinear'}\n",
      "0.949452 (0.030091) with: {'C': 1000, 'penalty': 'l2', 'solver': 'lbfgs'}\n",
      "0.951626 (0.030284) with: {'C': 1000, 'penalty': 'l2', 'solver': 'liblinear'}\n",
      "0.949485 (0.027799) with: {'C': 10000, 'penalty': 'l2', 'solver': 'lbfgs'}\n",
      "0.948696 (0.028606) with: {'C': 10000, 'penalty': 'l2', 'solver': 'liblinear'}\n",
      "Cross Validation Results for the Best Fit :-\n",
      "\n",
      "\n",
      "Cross-Validation accuracy: 0.976 +/- 0.020\n",
      "\n",
      "List of possible accuracy: [0.97826087 0.97826087 0.97826087 0.95652174 1.         0.97777778\n",
      " 0.97777778 0.97777778 1.         0.97777778 0.97826087 0.95652174\n",
      " 0.97826087 0.93478261 0.97826087 1.         0.97777778 0.93333333\n",
      " 0.97777778 1.         1.         1.         0.93478261 0.97826087\n",
      " 1.         0.95555556 0.95555556 0.97777778 0.95555556 1.        ]\n",
      "\n",
      "Maximum Accuracy That can be obtained from this model is: 100.0 %\n",
      "\n",
      "Minimum Accuracy: 93.33333333333333 %\n",
      "\n",
      "Overall Accuracy: (97.5829307568438, '%')\n",
      "\n",
      "Standard Deviation is: 0.019913104942213565\n"
     ]
    }
   ],
   "source": [
    "def search_parameter_space(grid):\n",
    "  clf = LogisticRegression()\n",
    "  cv = RepeatedStratifiedKFold(n_splits=10, n_repeats=3, random_state=1)\n",
    "  grid_search = GridSearchCV(estimator=clf, param_grid=grid, n_jobs=-1, cv=cv, scoring='accuracy',error_score=0)\n",
    "  grid_result = grid_search.fit(X_train, y_train)\n",
    "  score = grid_result.score(X_test,y_test) * 100\n",
    "  print(\"The accuracy of the tuned hyperparameters on the test set without cross validation is {:.2f}%\".format(score))\n",
    "  y_hat = grid_result.predict(X_test)\n",
    "  accuracy_score(y_test, y_hat)\n",
    "  clf_report = pd.DataFrame(classification_report(y_test, y_hat, output_dict=True))\n",
    "  print(tabulate(clf_report, headers='keys', tablefmt='psql'))\n",
    "  print(\"\\t\\t\\t\\t Cross Validation\")\n",
    "  print(\"Best: %f using %s\" % (grid_result.best_score_, grid_result.best_params_))\n",
    "  means = grid_result.cv_results_['mean_test_score']\n",
    "  stds = grid_result.cv_results_['std_test_score']\n",
    "  params = grid_result.cv_results_['params']\n",
    "  for mean, stdev, param in zip(means, stds, params):\n",
    "    print(\"%f (%f) with: %r\" % (mean, stdev, param))\n",
    "  print(\"Cross Validation Results for the Best Fit :-\")\n",
    "  cv_results = cross_validate(grid_search, X_train,y_train, cv=cv, scoring=('accuracy', 'precision', 'recall', 'f1','roc_auc'), return_train_score=True)\n",
    "  print('\\n\\nCross-Validation accuracy: %.3f +/- %.3f' %(np.mean(cv_results.get('test_accuracy')), np.std(cv_results.get('test_accuracy'))))\n",
    "  print('\\nList of possible accuracy:', cv_results.get('test_accuracy'))\n",
    "  print('\\nMaximum Accuracy That can be obtained from this model is:', max(cv_results.get('test_accuracy'))*100, '%')\n",
    "  print('\\nMinimum Accuracy:', min(cv_results.get('test_accuracy'))*100, '%')\n",
    "  print('\\nOverall Accuracy:', (np.mean(cv_results.get('test_accuracy'))*100, '%'))\n",
    "  print('\\nStandard Deviation is:', np.std(cv_results.get('test_accuracy')))\n",
    "  #print(classification_report(y_test, y_hat))\n",
    "solvers = ['lbfgs','liblinear']\n",
    "penalty = ['l2']\n",
    "c_values = [0.01,1,1.2,1.3,10,100,1000,10000]\n",
    "grid = dict(solver=solvers,penalty=penalty,C=c_values)  \n",
    "search_parameter_space(grid)"
   ]
  },
  {
   "cell_type": "code",
   "execution_count": null,
   "metadata": {
    "colab": {
     "base_uri": "https://localhost:8080/"
    },
    "id": "fN-WxCy-nEKB",
    "outputId": "d29aa9e5-abd1-4de4-a862-8ac6b303a034"
   },
   "outputs": [
    {
     "data": {
      "text/plain": [
       "0.9655877616747183"
      ]
     },
     "execution_count": 94,
     "metadata": {},
     "output_type": "execute_result"
    }
   ],
   "source": [
    "kf = RepeatedStratifiedKFold(n_splits=10, n_repeats=3, random_state=1)\n",
    "scaler = StandardScaler()\n",
    "X_train = scaler.fit_transform(X_train)\n",
    "X_test = scaler.transform(X_test)\n",
    "score = cross_val_score(LogisticRegression(solver='liblinear', penalty='l2',C=9), X_train, y_train, cv= kf, scoring=\"accuracy\")\n",
    "score.mean()\n",
    "#clf = LogisticRegression(solver='liblinear', penalty='l2',C=0.1)\n",
    "#clf.fit(X_train,y_train)\n",
    "#clf.score(X_test,y_test)\n",
    "#y_pred = clf.predict(X_test)\n",
    "#clf.get_params()\n",
    "#print('Accuracy of logistic regression classifier on train set: {:.2f}'.format(clf.score(X_train, y_train)))\n",
    "#print('Accuracy of logistic regression classifier on test set: {:.2f}'.format(clf.score(X_test, y_test)))\n",
    "#print('Precision of logistic regression classifier on test set: {:.2f}'.format(precision_score(y_test, y_pred)))"
   ]
  },
  {
   "cell_type": "code",
   "execution_count": null,
   "metadata": {
    "colab": {
     "base_uri": "https://localhost:8080/"
    },
    "id": "5YwD4gUPD9t0",
    "outputId": "6e3cfc0c-131b-4a64-89bd-e250c2764f8b"
   },
   "outputs": [
    {
     "name": "stderr",
     "output_type": "stream",
     "text": [
      "/usr/local/lib/python3.8/dist-packages/sklearn/preprocessing/_label.py:115: DataConversionWarning: A column-vector y was passed when a 1d array was expected. Please change the shape of y to (n_samples, ), for example using ravel().\n",
      "  y = column_or_1d(y, warn=True)\n"
     ]
    },
    {
     "data": {
      "text/plain": [
       "(369, 9)"
      ]
     },
     "execution_count": 242,
     "metadata": {},
     "output_type": "execute_result"
    }
   ],
   "source": [
    "from sklearn.preprocessing import LabelEncoder\n",
    " #Dataset 1\n",
    "X,y = df_dataset_2.iloc[:,:-1], df_dataset_2.iloc[:,-1]\n",
    "X_train, X_test,y_train, y_test = train_test_split(X,y,test_size=0.2,random_state=42)\n",
    "X_train.head()\n",
    "# Creating a instance of label Encoder.\n",
    "le = LabelEncoder()\n",
    "kf = RepeatedStratifiedKFold(n_splits=10, n_repeats=3, random_state=1)\n",
    "scaler = StandardScaler()\n",
    "X_train_without_categorical = X_train.iloc[:,X_train.columns!=4]\n",
    "#X_train_categorical = pd.get_dummies(X_train.iloc[:,X_train.columns==4]).to_numpy()\n",
    "X_train_with_categorical = le.fit_transform(X_train.iloc[:,X_train.columns==4]).reshape(-1,1)\n",
    "X_train = np.append(X_train_without_categorical,X_train_with_categorical,1)\n",
    "X_train = scaler.fit_transform(X_train)\n",
    "X_train.shape\n",
    "#score = cross_val_score(LogisticRegression(solver='liblinear', penalty='l2',C=9), X_train, y_train, cv= kf, scoring=\"accuracy\")\n",
    "#score.mean()"
   ]
  },
  {
   "cell_type": "code",
   "execution_count": null,
   "metadata": {
    "colab": {
     "base_uri": "https://localhost:8080/"
    },
    "id": "j5ASzizMMTAD",
    "outputId": "ee0ecb50-3449-4cd5-8fe5-31042493d539"
   },
   "outputs": [
    {
     "name": "stdout",
     "output_type": "stream",
     "text": [
      "[ 0.1         0.30204082  0.50408163  0.70612245  0.90816327  1.11020408\n",
      "  1.3122449   1.51428571  1.71632653  1.91836735  2.12040816  2.32244898\n",
      "  2.5244898   2.72653061  2.92857143  3.13061224  3.33265306  3.53469388\n",
      "  3.73673469  3.93877551  4.14081633  4.34285714  4.54489796  4.74693878\n",
      "  4.94897959  5.15102041  5.35306122  5.55510204  5.75714286  5.95918367\n",
      "  6.16122449  6.36326531  6.56530612  6.76734694  6.96938776  7.17142857\n",
      "  7.37346939  7.5755102   7.77755102  7.97959184  8.18163265  8.38367347\n",
      "  8.58571429  8.7877551   8.98979592  9.19183673  9.39387755  9.59591837\n",
      "  9.79795918 10.        ]\n",
      "Best: 0.726476 using {'C': 0.9081632653061225, 'penalty': 'l2', 'solver': 'liblinear'}\n",
      "0.722823 (0.067090) with: {'C': 0.1, 'penalty': 'l2', 'solver': 'liblinear'}\n",
      "0.726451 (0.065127) with: {'C': 0.3020408163265306, 'penalty': 'l2', 'solver': 'liblinear'}\n",
      "0.725551 (0.064134) with: {'C': 0.5040816326530613, 'penalty': 'l2', 'solver': 'liblinear'}\n",
      "0.725551 (0.064134) with: {'C': 0.7061224489795919, 'penalty': 'l2', 'solver': 'liblinear'}\n",
      "0.726476 (0.065860) with: {'C': 0.9081632653061225, 'penalty': 'l2', 'solver': 'liblinear'}\n",
      "0.726476 (0.065860) with: {'C': 1.1102040816326533, 'penalty': 'l2', 'solver': 'liblinear'}\n",
      "0.726476 (0.065860) with: {'C': 1.3122448979591839, 'penalty': 'l2', 'solver': 'liblinear'}\n",
      "0.726476 (0.065860) with: {'C': 1.5142857142857145, 'penalty': 'l2', 'solver': 'liblinear'}\n",
      "0.725576 (0.065252) with: {'C': 1.716326530612245, 'penalty': 'l2', 'solver': 'liblinear'}\n",
      "0.725576 (0.065252) with: {'C': 1.9183673469387756, 'penalty': 'l2', 'solver': 'liblinear'}\n",
      "0.725576 (0.065252) with: {'C': 2.1204081632653065, 'penalty': 'l2', 'solver': 'liblinear'}\n",
      "0.725576 (0.065252) with: {'C': 2.322448979591837, 'penalty': 'l2', 'solver': 'liblinear'}\n",
      "0.725576 (0.065252) with: {'C': 2.5244897959183676, 'penalty': 'l2', 'solver': 'liblinear'}\n",
      "0.725576 (0.065252) with: {'C': 2.7265306122448982, 'penalty': 'l2', 'solver': 'liblinear'}\n",
      "0.725576 (0.065252) with: {'C': 2.928571428571429, 'penalty': 'l2', 'solver': 'liblinear'}\n",
      "0.725576 (0.065252) with: {'C': 3.1306122448979594, 'penalty': 'l2', 'solver': 'liblinear'}\n",
      "0.725576 (0.065252) with: {'C': 3.33265306122449, 'penalty': 'l2', 'solver': 'liblinear'}\n",
      "0.725576 (0.065252) with: {'C': 3.5346938775510206, 'penalty': 'l2', 'solver': 'liblinear'}\n",
      "0.725576 (0.065252) with: {'C': 3.736734693877551, 'penalty': 'l2', 'solver': 'liblinear'}\n",
      "0.725576 (0.065252) with: {'C': 3.938775510204082, 'penalty': 'l2', 'solver': 'liblinear'}\n",
      "0.725576 (0.065252) with: {'C': 4.140816326530612, 'penalty': 'l2', 'solver': 'liblinear'}\n",
      "0.725576 (0.065252) with: {'C': 4.3428571428571425, 'penalty': 'l2', 'solver': 'liblinear'}\n",
      "0.725576 (0.065252) with: {'C': 4.544897959183674, 'penalty': 'l2', 'solver': 'liblinear'}\n",
      "0.725576 (0.065252) with: {'C': 4.746938775510204, 'penalty': 'l2', 'solver': 'liblinear'}\n",
      "0.725576 (0.065252) with: {'C': 4.948979591836735, 'penalty': 'l2', 'solver': 'liblinear'}\n",
      "0.725576 (0.065252) with: {'C': 5.151020408163265, 'penalty': 'l2', 'solver': 'liblinear'}\n",
      "0.725576 (0.065252) with: {'C': 5.353061224489796, 'penalty': 'l2', 'solver': 'liblinear'}\n",
      "0.725576 (0.065252) with: {'C': 5.555102040816326, 'penalty': 'l2', 'solver': 'liblinear'}\n",
      "0.725576 (0.065252) with: {'C': 5.757142857142857, 'penalty': 'l2', 'solver': 'liblinear'}\n",
      "0.725576 (0.065252) with: {'C': 5.959183673469387, 'penalty': 'l2', 'solver': 'liblinear'}\n",
      "0.725576 (0.065252) with: {'C': 6.161224489795918, 'penalty': 'l2', 'solver': 'liblinear'}\n",
      "0.725576 (0.065252) with: {'C': 6.3632653061224485, 'penalty': 'l2', 'solver': 'liblinear'}\n",
      "0.725576 (0.065252) with: {'C': 6.5653061224489795, 'penalty': 'l2', 'solver': 'liblinear'}\n",
      "0.725576 (0.065252) with: {'C': 6.7673469387755105, 'penalty': 'l2', 'solver': 'liblinear'}\n",
      "0.725576 (0.065252) with: {'C': 6.969387755102041, 'penalty': 'l2', 'solver': 'liblinear'}\n",
      "0.725576 (0.065252) with: {'C': 7.171428571428572, 'penalty': 'l2', 'solver': 'liblinear'}\n",
      "0.725576 (0.065252) with: {'C': 7.373469387755102, 'penalty': 'l2', 'solver': 'liblinear'}\n",
      "0.725576 (0.065252) with: {'C': 7.575510204081633, 'penalty': 'l2', 'solver': 'liblinear'}\n",
      "0.725576 (0.065252) with: {'C': 7.777551020408163, 'penalty': 'l2', 'solver': 'liblinear'}\n",
      "0.725576 (0.065252) with: {'C': 7.979591836734694, 'penalty': 'l2', 'solver': 'liblinear'}\n",
      "0.725576 (0.065252) with: {'C': 8.181632653061225, 'penalty': 'l2', 'solver': 'liblinear'}\n",
      "0.725576 (0.065252) with: {'C': 8.383673469387755, 'penalty': 'l2', 'solver': 'liblinear'}\n",
      "0.725576 (0.065252) with: {'C': 8.585714285714285, 'penalty': 'l2', 'solver': 'liblinear'}\n",
      "0.725576 (0.065252) with: {'C': 8.787755102040816, 'penalty': 'l2', 'solver': 'liblinear'}\n",
      "0.725576 (0.065252) with: {'C': 8.989795918367347, 'penalty': 'l2', 'solver': 'liblinear'}\n",
      "0.725576 (0.065252) with: {'C': 9.191836734693878, 'penalty': 'l2', 'solver': 'liblinear'}\n",
      "0.725576 (0.065252) with: {'C': 9.393877551020408, 'penalty': 'l2', 'solver': 'liblinear'}\n",
      "0.725576 (0.065252) with: {'C': 9.595918367346938, 'penalty': 'l2', 'solver': 'liblinear'}\n",
      "0.725576 (0.065252) with: {'C': 9.79795918367347, 'penalty': 'l2', 'solver': 'liblinear'}\n",
      "0.725576 (0.065252) with: {'C': 10.0, 'penalty': 'l2', 'solver': 'liblinear'}\n"
     ]
    }
   ],
   "source": [
    "solvers = ['liblinear']\n",
    "penalty = ['l2']\n",
    "c_values = np.linspace(0.1,10,50)\n",
    "print(c_values)\n",
    "clf = LogisticRegression()\n",
    "grid = dict(solver=solvers,penalty=penalty,C=c_values)\n",
    "cv = RepeatedStratifiedKFold(n_splits=10, n_repeats=3, random_state=1)\n",
    "grid_search = GridSearchCV(estimator=clf, param_grid=grid, n_jobs=-1, cv=cv, scoring='accuracy',error_score=0)\n",
    "grid_result = grid_search.fit(X_train, y_train)\n",
    "#print(grid_result)\n",
    "print(\"Best: %f using %s\" % (grid_result.best_score_, grid_result.best_params_))\n",
    "means = grid_result.cv_results_['mean_test_score']\n",
    "stds = grid_result.cv_results_['std_test_score']\n",
    "params = grid_result.cv_results_['params']\n",
    "for mean, stdev, param in zip(means, stds, params):\n",
    "    print(\"%f (%f) with: %r\" % (mean, stdev, param))"
   ]
  },
  {
   "cell_type": "markdown",
   "metadata": {
    "id": "fU7g8R0xM4Bz"
   },
   "source": []
  }
 ],
 "metadata": {
  "colab": {
   "provenance": []
  },
  "kernelspec": {
   "display_name": "Python 3 (ipykernel)",
   "language": "python",
   "name": "python3"
  },
  "language_info": {
   "codemirror_mode": {
    "name": "ipython",
    "version": 3
   },
   "file_extension": ".py",
   "mimetype": "text/x-python",
   "name": "python",
   "nbconvert_exporter": "python",
   "pygments_lexer": "ipython3",
   "version": "3.9.6"
  }
 },
 "nbformat": 4,
 "nbformat_minor": 1
}
